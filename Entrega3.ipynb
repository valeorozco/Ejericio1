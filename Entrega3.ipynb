{
 "cells": [
  {
   "cell_type": "markdown",
   "metadata": {},
   "source": [
    "## Arrays and vectors in python\n",
    "### Valeria Orozco Castiblanco "
   ]
  },
  {
   "cell_type": "markdown",
   "metadata": {},
   "source": [
    "#### Exercise 1\n",
    "Crea un np.array d'una dimensió, que inclogui l'almenys 8 nombres sencers, data type int. Mostra la dimensió i la forma de la matriu. ."
   ]
  },
  {
   "cell_type": "code",
   "execution_count": 1,
   "metadata": {},
   "outputs": [
    {
     "name": "stdout",
     "output_type": "stream",
     "text": [
      "El tipo de arreglo es: <class 'numpy.ndarray'>\n",
      "La forma del arreglo es: (8,)\n",
      "La dimension del arreglo es: 1\n"
     ]
    }
   ],
   "source": [
    "import numpy as np\n",
    "array = np.array([2,4,7,8,9,5,4,7])\n",
    "print('El tipo de arreglo es: '+ str(type(array)))\n",
    "print('La forma del arreglo es: ' +str(array.shape))\n",
    "print('La dimension del arreglo es: '+str(array.ndim))"
   ]
  },
  {
   "cell_type": "markdown",
   "metadata": {},
   "source": [
    "#### Exercici 2\n",
    "De la matriu de l'exercici 1, calcula el valor mitjà dels valors introduïts i resta la mitjana resultant de cada un dels valors de la matriu."
   ]
  },
  {
   "cell_type": "code",
   "execution_count": 14,
   "metadata": {},
   "outputs": [
    {
     "name": "stdout",
     "output_type": "stream",
     "text": [
      "La media del arreglo es: 5.75\n"
     ]
    }
   ],
   "source": [
    "#Calcula la media\n",
    "\n",
    "media = np.mean(array)\n",
    "print('La media del arreglo es: '+ str(media)) "
   ]
  },
  {
   "cell_type": "code",
   "execution_count": 3,
   "metadata": {},
   "outputs": [
    {
     "name": "stdout",
     "output_type": "stream",
     "text": [
      "-3.75\n",
      "-1.75\n",
      "1.25\n",
      "2.25\n",
      "3.25\n",
      "-0.75\n",
      "-1.75\n",
      "1.25\n"
     ]
    }
   ],
   "source": [
    "#Resta la media de cada uno de los valores\n",
    "media = 5.75\n",
    "for i in array:\n",
    "    resta = i-media\n",
    "    print(resta)"
   ]
  },
  {
   "cell_type": "markdown",
   "metadata": {},
   "source": [
    "#### Exercise 3\n",
    "Crea una matriu bidimensional amb una forma de 5 x 5. Extreu el valor màxim de la matriu, i els valors màxims de cadascun dels seus eixos."
   ]
  },
  {
   "cell_type": "code",
   "execution_count": 4,
   "metadata": {},
   "outputs": [],
   "source": [
    "bidimensional = np.array([[2,3,6,7,8],[9,67,5,34,6]])\n",
    "\n"
   ]
  },
  {
   "cell_type": "code",
   "execution_count": 15,
   "metadata": {},
   "outputs": [
    {
     "name": "stdout",
     "output_type": "stream",
     "text": [
      "Max del arreglo 67\n",
      "Max primer arreglo 8\n",
      "Max segundo arreglo 67\n"
     ]
    }
   ],
   "source": [
    "print('Max del arreglo '+ str(np.max(bidimensional)))\n",
    "print('Max primer arreglo '+ str(np.max(bidimensional[0])))\n",
    "print('Max segundo arreglo ' + str(np.max(bidimensional[1])))\n",
    "\n"
   ]
  },
  {
   "cell_type": "markdown",
   "metadata": {},
   "source": [
    "#### Exercise 4\n",
    "Mostreu-me amb exemples de diferents matrius, la regla fonamental de Broadcasting que diu : \"les matrius es poden transmetre / broadcast si les seves dimensions coincideixen o si una de les matrius té una mida d'1\"."
   ]
  },
  {
   "cell_type": "markdown",
   "metadata": {},
   "source": [
    "#### Exercise 5\n",
    "Utilitza la Indexació per extreure els valors d'una columna i una fila de la matriu. I suma els seus valors."
   ]
  },
  {
   "cell_type": "code",
   "execution_count": 10,
   "metadata": {},
   "outputs": [
    {
     "name": "stdout",
     "output_type": "stream",
     "text": [
      "16340\n",
      "(3, 4)\n"
     ]
    }
   ],
   "source": [
    "arreglo = np.array([[1234,15364,457568,85785,],[124,1,34,6],[145,745,688,976]])\n",
    "variable1 = arreglo[0,1]\n",
    "variable2 = arreglo[2,3]\n",
    "suma = variable1 + variable2\n",
    "print(suma)\n"
   ]
  },
  {
   "cell_type": "markdown",
   "metadata": {},
   "source": [
    "#### Exercise 6\n",
    "Mask la matriu anterior, realitzeu un càlcul booleà vectoritzat, agafant cada element i comprovant si es divideix uniformement per quatre.\n",
    "Això retorna una matriu de mask de la mateixa forma amb els resultats elementals del càlcul."
   ]
  },
  {
   "cell_type": "code",
   "execution_count": 21,
   "metadata": {},
   "outputs": [
    {
     "name": "stdout",
     "output_type": "stream",
     "text": [
      "[[False  True  True False]\n",
      " [ True False False False]\n",
      " [False False  True  True]]\n"
     ]
    },
    {
     "data": {
      "text/plain": [
       "array([ 15364, 457568,    124,    688,    976])"
      ]
     },
     "execution_count": 21,
     "metadata": {},
     "output_type": "execute_result"
    }
   ],
   "source": [
    "mask = arreglo%4 == 0\n",
    "print(mask)     \n",
    "\n"
   ]
  },
  {
   "cell_type": "markdown",
   "metadata": {},
   "source": [
    "#### Exercise 7\n",
    "A continuació, utilitzeu aquesta màscara per indexar a la matriu de números original. Això fa que la matriu perdi la seva forma original, reduint-la a una dimensió, però encara obteniu les dades que esteu cercant."
   ]
  },
  {
   "cell_type": "code",
   "execution_count": 23,
   "metadata": {},
   "outputs": [
    {
     "name": "stdout",
     "output_type": "stream",
     "text": [
      "[ 15364 457568    124    688    976]\n"
     ]
    }
   ],
   "source": [
    "new_arreglo = arreglo[mask]\n",
    "print(new_arreglo)"
   ]
  }
 ],
 "metadata": {
  "interpreter": {
   "hash": "200def6cb94efbbe49cc2b8fac879d31684949201b31c878ad4c5c6bd0710b45"
  },
  "kernelspec": {
   "display_name": "Python 3.9.7 ('base')",
   "language": "python",
   "name": "python3"
  },
  "language_info": {
   "codemirror_mode": {
    "name": "ipython",
    "version": 3
   },
   "file_extension": ".py",
   "mimetype": "text/x-python",
   "name": "python",
   "nbconvert_exporter": "python",
   "pygments_lexer": "ipython3",
   "version": "3.9.7"
  },
  "orig_nbformat": 4
 },
 "nbformat": 4,
 "nbformat_minor": 2
}
