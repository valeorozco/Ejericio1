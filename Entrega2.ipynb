{
 "cells": [
  {
   "cell_type": "markdown",
   "metadata": {},
   "source": [
    "## Esctructura de datos\n",
    "Valeria Orozco Castiblanco"
   ]
  },
  {
   "cell_type": "markdown",
   "metadata": {},
   "source": [
    "### Exercici 1\n",
    "Crea una llista que agrupi els mesos de l’any en trimestres (1T: Gener, Febrer i Març, 2T: Abril, Maig, Juny...), és a dir, una llista amb 4 llistes dins."
   ]
  },
  {
   "cell_type": "code",
   "execution_count": 1,
   "metadata": {},
   "outputs": [],
   "source": [
    "lista = [['Enero','Febrero','Marzo'],['abril','Mayo','Junio'],['Julio','Agosto','Septiembre'],['Octubre','Noviembre', 'Diciembre']]"
   ]
  },
  {
   "cell_type": "markdown",
   "metadata": {},
   "source": [
    "### Exercici 2:\n",
    "Crea un codi que et permeti accedir a:\n",
    "\n",
    "* El segon mes del primer trimestre\n",
    "* Els mesos del primer trimestre\n",
    "* Setembre i octubre"
   ]
  },
  {
   "cell_type": "code",
   "execution_count": 2,
   "metadata": {},
   "outputs": [
    {
     "name": "stdout",
     "output_type": "stream",
     "text": [
      "['Enero', 'Febrero', 'Marzo']\n",
      "Septiembre Octubre\n"
     ]
    }
   ],
   "source": [
    "lista[0][1] #Febrero\n",
    "print(lista [0]) #Primer trimestre\n",
    "print(lista[2][2],lista[3][0]) #Septiembre y Octubre\n"
   ]
  },
  {
   "cell_type": "code",
   "execution_count": 3,
   "metadata": {},
   "outputs": [
    {
     "data": {
      "text/plain": [
       "11"
      ]
     },
     "execution_count": 3,
     "metadata": {},
     "output_type": "execute_result"
    }
   ],
   "source": [
    "lista_random = [1,5,6,7,8,9,9,3,4,5,6]\n",
    "len(lista_random)"
   ]
  },
  {
   "cell_type": "markdown",
   "metadata": {},
   "source": [
    "### Exercici 3\n",
    "\n",
    "Crea una llista amb nombres desordenats i respon a les següents preguntes:\n",
    "\n",
    "* Quants números hi ha?\n",
    "* Quantes vegades apareix el número 3\n",
    "* Quantes vegades apareixen els nombres 3 i 4?\n",
    "* Quin és el número més gran?\n",
    "* Quins són els 3 números més petits?\n",
    "* Quin és el rang d’aquesta llista?"
   ]
  },
  {
   "cell_type": "code",
   "execution_count": 4,
   "metadata": {},
   "outputs": [
    {
     "name": "stdout",
     "output_type": "stream",
     "text": [
      "11\n",
      "19\n"
     ]
    }
   ],
   "source": [
    "import random\n",
    "#create lista numeros and fill it randomly\n",
    "numeros = []\n",
    "for i in range(1,10):\n",
    "    n = random.randint(1,30)\n",
    "    numeros.append(n)\n",
    "sizeNumeros = len(numeros)\n",
    "\n",
    "#create list that counts how many 3s are in the list numeros\n",
    "tresenlista = []\n",
    "for i in numeros:\n",
    "    if 3 in numeros:\n",
    "        tresenlista.append(i)\n",
    "tresenlista = len(tresenlista)\n",
    "\n",
    "#create list that counts how many 3s and 4s are in the list numeros\n",
    "listafinal = []\n",
    "for i in numeros:\n",
    "    if 3 and 4 in numeros:\n",
    "        listafinal.append(i)\n",
    "\n",
    "tresycuatroenlista = len(listafinal)\n",
    "\n",
    "#Check which is the higher number from the list\n",
    "numMax  = max(numeros)\n",
    "\n",
    "#Check which are the three smaller numbers from the list\n",
    "#for i in numeros:\n",
    "  #  if i < i++\n",
    "    \n",
    " #Check range of a list\n",
    "numeromayor = numMax\n",
    "for i in numeros:\n",
    "    if (i < numeromayor) :\n",
    "      numeromayor = i \n",
    "      range = numMax -numeromayor\n",
    "      print(range)"
   ]
  },
  {
   "cell_type": "code",
   "execution_count": 5,
   "metadata": {},
   "outputs": [
    {
     "name": "stdout",
     "output_type": "stream",
     "text": [
      "max21\n",
      "10\n",
      "nummenor:10\n",
      "2\n",
      "nummenor:2\n"
     ]
    }
   ],
   "source": [
    "print('max'+str(numMax))\n",
    "numeromayor = numMax\n",
    "for i in numeros:\n",
    "    if (i < numeromayor) :\n",
    "      print(i)\n",
    "      numeromayor = i  \n",
    "      print('nummenor:'+ str(i))\n"
   ]
  },
  {
   "cell_type": "code",
   "execution_count": 6,
   "metadata": {},
   "outputs": [
    {
     "name": "stdout",
     "output_type": "stream",
     "text": [
      "[10, 2, 8, 18, 12, 9, 21, 17, 7]\n"
     ]
    }
   ],
   "source": [
    "print(numeros)"
   ]
  },
  {
   "cell_type": "code",
   "execution_count": 7,
   "metadata": {},
   "outputs": [
    {
     "name": "stdout",
     "output_type": "stream",
     "text": [
      "La lista tiene 9 numeros\n",
      "Veces en las que 3 esta presente en la lista: 0\n",
      "Veces en las que 3 y 4 esta presente en la lista: 0\n",
      "El numero mayor en esta lista es: 21\n",
      "El rango de la lista es 19\n"
     ]
    }
   ],
   "source": [
    "print('La lista tiene ' + str(len(numeros))+ ' numeros')\n",
    "print('Veces en las que 3 esta presente en la lista: ' +str(tresenlista))\n",
    "print('Veces en las que 3 y 4 esta presente en la lista: '+ str(tresycuatroenlista))\n",
    "print('El numero mayor en esta lista es: '+str(numMax))\n",
    "print('El rango de la lista es '+str(range))\n"
   ]
  }
 ],
 "metadata": {
  "interpreter": {
   "hash": "200def6cb94efbbe49cc2b8fac879d31684949201b31c878ad4c5c6bd0710b45"
  },
  "kernelspec": {
   "display_name": "Python 3.9.7 ('base')",
   "language": "python",
   "name": "python3"
  },
  "language_info": {
   "codemirror_mode": {
    "name": "ipython",
    "version": 3
   },
   "file_extension": ".py",
   "mimetype": "text/x-python",
   "name": "python",
   "nbconvert_exporter": "python",
   "pygments_lexer": "ipython3",
   "version": "3.9.7"
  },
  "orig_nbformat": 4
 },
 "nbformat": 4,
 "nbformat_minor": 2
}
