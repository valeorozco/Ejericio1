{
 "cells": [
  {
   "cell_type": "markdown",
   "metadata": {},
   "source": [
    "## EJERCICIOS CON MYSQL"
   ]
  },
  {
   "cell_type": "markdown",
   "metadata": {},
   "source": [
    "### EJERCICIO 01 \n",
    "#### DESCRIPCIÓN DE RELACION ENTRE ENTIDADES EN DB MOVIES\n",
    "![<DESCRIPCIÓN DE RELACION ENTRE ENTIDADES EN DB MOVIES>](MoviesTables.png)"
   ]
  },
  {
   "cell_type": "markdown",
   "metadata": {},
   "source": [
    "La base de datos consta de de 5 tablas o entidades. Cómo entidades fuertes están:\n",
    "* tb_movie: Con los atributos descritos en el gráfico,  los cuales describen las peliculas.\n",
    "* tb_genre: Con los atributos descritos en el gráfico, los cuales describen los géneros de las peliculas.\n",
    "* tb_person: Con los atributos descritos en el gráfico, los cuales describen las personas que actuan en las peliculas.\n",
    "* tb_role: Con los atributos descritos en el gráfico, los cuales describen los roles de los actores.\n",
    "\n",
    "Cómo entidad débil, se encuentra tb_movie_person, que conecta las tablas tb_person, tb_movie y tb_role utilizando las llaves primarias de cada tabla como llaves foraneas. "
   ]
  },
  {
   "cell_type": "markdown",
   "metadata": {},
   "source": [
    "### EJERCICIO 02\n",
    "Has d'obtenir el nom, el país i la data de naixement d'aquelles persones per les quals no consti una data de mort i ordenar les dades de la persona més vella a la persona més jove."
   ]
  },
  {
   "cell_type": "markdown",
   "metadata": {},
   "source": [
    "\n",
    "<div>\n",
    "<img src=\"Capture_people_asc_order.png\" width=\"500\"/>\n",
    "</div>"
   ]
  },
  {
   "cell_type": "markdown",
   "metadata": {},
   "source": [
    "### EJERCICIO 03\n",
    "Realitza la següent consulta sobre la base de dades acabada de crear: \n",
    "\n",
    "Has d'obtenir el nom del gènere i el nombre total de pel·lícules d'aquest gènere i ordenar-ho per ordre descendent de nombre total de pel·lícules.  "
   ]
  },
  {
   "cell_type": "markdown",
   "metadata": {},
   "source": [
    "\n",
    "<div>\n",
    "<img src=\"Capture_movies_per_genre.png\" width=\"600\"/>\n",
    "</div>"
   ]
  },
  {
   "cell_type": "markdown",
   "metadata": {},
   "source": [
    "### EJERCICIO 04\n",
    "\n",
    "Realitza la següent consulta sobre la base de dades acabada de crear: \n",
    "\n",
    "Has d'obtenir, per a cada persona, el seu nom i el nombre màxim de rols diferents que ha tingut en una mateixa pel·lícula. \n",
    "Posteriorment, mostra únicament aquelles persones que hagin assumit més d'un rol en una mateixa pel·lícula."
   ]
  },
  {
   "cell_type": "markdown",
   "metadata": {},
   "source": [
    "### Contar roles en peliculas\n",
    "<div>\n",
    "<img src=\"RolesenPeli.png\" width=\"400\"/>\n",
    "</div>"
   ]
  },
  {
   "cell_type": "markdown",
   "metadata": {},
   "source": [
    "### Mostrar solo quienes hayan participado con más de un rol en la pelicula\n",
    "<div>\n",
    "<img src=\"Role+1.png\" width=\"400\"/>\n",
    "</div>"
   ]
  },
  {
   "cell_type": "markdown",
   "metadata": {},
   "source": [
    "### EJERCICIO 05\n",
    "Realitza la següent operació sobre la base de dades acabada de crear: \n",
    "\n",
    "Has de crear un nou gènere anomenat \"Documental\" el qual tingui com a identificador el nombre 69."
   ]
  },
  {
   "cell_type": "markdown",
   "metadata": {},
   "source": [
    "\n",
    "<div>\n",
    "<img src=\"Insert_table.png\" width=\"400\"/>\n",
    "</div>"
   ]
  },
  {
   "cell_type": "markdown",
   "metadata": {},
   "source": [
    "### EJERCICIO 06\n",
    "Fes la següent operació sobre la base de dades acabada de crear:  \n",
    "\n",
    "Elimina la pel·lícula \"La Gran Familia Española\" de la base de dades."
   ]
  },
  {
   "cell_type": "markdown",
   "metadata": {},
   "source": [
    "<div>\n",
    "<img src=\"Delete.png\" width=\"400\"/>\n",
    "</div>"
   ]
  },
  {
   "cell_type": "markdown",
   "metadata": {},
   "source": [
    "### EJERCICIO 07\n",
    "Realitza la següent operació sobre la base de dades acabada de crear: \n",
    "\n",
    "Canvia el gènere de la pel·lícula \"Ocho apellidos catalanes\" perquè consti com a comèdia i no com a romàntica.\n"
   ]
  },
  {
   "cell_type": "markdown",
   "metadata": {},
   "source": [
    "<div>\n",
    "<img src=\"UPDATE_SET.png\" width=\"600\"/>\n",
    "</div>"
   ]
  }
 ],
 "metadata": {
  "language_info": {
   "name": "python"
  },
  "orig_nbformat": 4
 },
 "nbformat": 4,
 "nbformat_minor": 2
}
