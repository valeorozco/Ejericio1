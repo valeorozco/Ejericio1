{
 "cells": [
  {
   "cell_type": "markdown",
   "metadata": {},
   "source": [
    "### Designed by: \n",
    "#### Valeria Orozco Castiblanco\n",
    "Creation of simple operations using different kinds of variables"
   ]
  },
  {
   "cell_type": "code",
   "execution_count": 2,
   "metadata": {},
   "outputs": [
    {
     "data": {
      "text/plain": [
       "10"
      ]
     },
     "execution_count": 2,
     "metadata": {},
     "output_type": "execute_result"
    }
   ],
   "source": [
    "#Addition\n",
    "a = 2\n",
    "b =8\n",
    "a+b\n"
   ]
  },
  {
   "cell_type": "code",
   "execution_count": 14,
   "metadata": {},
   "outputs": [
    {
     "data": {
      "text/plain": [
       "400"
      ]
     },
     "execution_count": 14,
     "metadata": {},
     "output_type": "execute_result"
    }
   ],
   "source": [
    "#Multiplication\n",
    "a = 5\n",
    "b = 80\n",
    "a*b"
   ]
  },
  {
   "cell_type": "code",
   "execution_count": null,
   "metadata": {},
   "outputs": [],
   "source": [
    "#Subtraction\n",
    "c = 10000\n",
    "d = 500\n",
    "c-d"
   ]
  },
  {
   "cell_type": "code",
   "execution_count": 3,
   "metadata": {},
   "outputs": [
    {
     "data": {
      "text/plain": [
       "3.0"
      ]
     },
     "execution_count": 3,
     "metadata": {},
     "output_type": "execute_result"
    }
   ],
   "source": [
    "#divison\n",
    "f=90\n",
    "x= 30\n",
    "f/x"
   ]
  },
  {
   "cell_type": "markdown",
   "metadata": {},
   "source": [
    "#### Castings"
   ]
  },
  {
   "cell_type": "code",
   "execution_count": null,
   "metadata": {},
   "outputs": [],
   "source": [
    "x = int(3.8)\n",
    "y= 6\n",
    "print(x+y"
   ]
  },
  {
   "cell_type": "markdown",
   "metadata": {},
   "source": [
    "#### Booleans"
   ]
  },
  {
   "cell_type": "code",
   "execution_count": 9,
   "metadata": {},
   "outputs": [
    {
     "name": "stdout",
     "output_type": "stream",
     "text": [
      "La variable boolean en verdadera\n",
      "La variable boolean es falsa\n",
      "La variable boolean es falsa\n",
      "La variable boolean es falsa\n",
      "La variable boolean es falsa\n"
     ]
    }
   ],
   "source": [
    "# for loop on condition\n",
    "boolean = True\n",
    "for i in range(5):\n",
    "    if boolean == True:\n",
    "        print('La variable boolean en verdadera')\n",
    "    else:\n",
    "        print('La variable boolean es falsa')"
   ]
  },
  {
   "cell_type": "markdown",
   "metadata": {},
   "source": [
    "###  Strings"
   ]
  },
  {
   "cell_type": "code",
   "execution_count": 1,
   "metadata": {},
   "outputs": [
    {
     "name": "stdout",
     "output_type": "stream",
     "text": [
      "La palabra está en el texto\n"
     ]
    }
   ],
   "source": [
    "#finding a string within a sentence\n",
    "text = \"The infrastructure will collapse, from voltage spikes\"\n",
    "if \"infrastructure\" in text:\n",
    "    print(\"La palabra está en el texto\")"
   ]
  },
  {
   "cell_type": "code",
   "execution_count": 2,
   "metadata": {},
   "outputs": [
    {
     "name": "stdout",
     "output_type": "stream",
     "text": [
      "HELLO WORLD\n"
     ]
    }
   ],
   "source": [
    "#converting a sentence to uppercase\n",
    "text = \"Hello world\"\n",
    "print(text.upper())"
   ]
  },
  {
   "cell_type": "code",
   "execution_count": 5,
   "metadata": {},
   "outputs": [
    {
     "name": "stdout",
     "output_type": "stream",
     "text": [
      "Hello world I was born today\n"
     ]
    }
   ],
   "source": [
    "#Concatenation\n",
    "text = \"Hello world\"\n",
    "t2 = \"I was born today\"\n",
    "t3 = text+\" \"+t2\n",
    "print(t3)"
   ]
  },
  {
   "cell_type": "code",
   "execution_count": 9,
   "metadata": {},
   "outputs": [
    {
     "name": "stdout",
     "output_type": "stream",
     "text": [
      "In 5 days I will be 9 years \n"
     ]
    }
   ],
   "source": [
    "#concatenating numbers + text\n",
    "age = 9\n",
    "days = 5\n",
    "text = \"In {} days I will be {} years \"\n",
    "print(text.format(days, age))"
   ]
  }
 ],
 "metadata": {
  "interpreter": {
   "hash": "200def6cb94efbbe49cc2b8fac879d31684949201b31c878ad4c5c6bd0710b45"
  },
  "kernelspec": {
   "display_name": "Python 3 (ipykernel)",
   "language": "python",
   "name": "python3"
  },
  "language_info": {
   "codemirror_mode": {
    "name": "ipython",
    "version": 3
   },
   "file_extension": ".py",
   "mimetype": "text/x-python",
   "name": "python",
   "nbconvert_exporter": "python",
   "pygments_lexer": "ipython3",
   "version": "3.9.7"
  }
 },
 "nbformat": 4,
 "nbformat_minor": 2
}
