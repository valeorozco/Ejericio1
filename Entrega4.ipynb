{
 "cells": [
  {
   "cell_type": "markdown",
   "metadata": {},
   "source": [
    "### Entrega 4: Estructura de control\n",
    "#### Valeria Orozco Castiblanco"
   ]
  },
  {
   "cell_type": "markdown",
   "metadata": {},
   "source": [
    "##### Exercici 1\n",
    "L'exercici consisteix a crear un programa que et classifiqui una variable numèrica en funció de l’escala Suspès/Aprovat/Notable/Excel·lent."
   ]
  },
  {
   "cell_type": "code",
   "execution_count": 14,
   "metadata": {},
   "outputs": [
    {
     "name": "stdout",
     "output_type": "stream",
     "text": [
      "Ha aprobado la materia\n"
     ]
    }
   ],
   "source": [
    "def calificaciones(nota):\n",
    "    if nota < 5:\n",
    "       print(\"Ha suspendido la materia\")\n",
    "    elif 5 < nota < 6.9:\n",
    "       print(\"Ha aprobado la materia\")\n",
    "    elif 6.9 < nota < 8.9:\n",
    "       print(\"Ha aprobado la materia de forma notable\")\n",
    "    elif nota > 9:\n",
    "       print(\"Ha aprobado la materia con excelentes resultados\")\n",
    "    else:\n",
    "       print(\"Número no reconocido por el sistema de calificaciones\")\n",
    "\n",
    "calificaciones(6)"
   ]
  },
  {
   "cell_type": "markdown",
   "metadata": {},
   "source": [
    "#### Exercici 2\n",
    "\n",
    "Utilitzant el següent tutorial Programiz: Python Input, Output and Import crea un programa que et pregunti dos números. T’ha de mostrar un missatge dient si el primer és més gran, el segon és més gran o són iguals."
   ]
  },
  {
   "cell_type": "code",
   "execution_count": 19,
   "metadata": {},
   "outputs": [],
   "source": [
    "def evaluador_de_numeros(num1,num2):\n",
    "  if num1 <num2:\n",
    "      print('El segundo número '+str(num2)+' es mayor que el segundo')\n",
    "  elif num1> num2:\n",
    "      print('El primer número '+str(num1)+' es mayor que el segundo')\n",
    "  else: \n",
    "     print('Los numeros son iguales')"
   ]
  },
  {
   "cell_type": "code",
   "execution_count": 20,
   "metadata": {},
   "outputs": [
    {
     "name": "stdout",
     "output_type": "stream",
     "text": [
      "El primer número5 es mayor que el segundo\n"
     ]
    }
   ],
   "source": [
    "num1 = input('Ingrese primer números')\n",
    "num2 = input('Ingrese el segundo número')\n",
    "evaluador_de_numeros(num1,num2)"
   ]
  },
  {
   "cell_type": "markdown",
   "metadata": {},
   "source": [
    "#### Exercici 3\n",
    "\n",
    "Crea un programa que et pregunti el teu nom, i et demani un número. Si el número és 0, hauria de mostrar un missatge d’error. En cas contrari, hauria de mostrar el nom repetit tants cops com indiqui el número. Per exemple, “Joan Joan Joan”."
   ]
  },
  {
   "cell_type": "code",
   "execution_count": 27,
   "metadata": {},
   "outputs": [
    {
     "name": "stdout",
     "output_type": "stream",
     "text": [
      "val val \n"
     ]
    }
   ],
   "source": [
    "def repetir_nombre():\n",
    "    nombre = input('Ingrese su nombre')\n",
    "    num = input('Ingrese un numero')\n",
    "    num = int(num)\n",
    "    if num == 0:\n",
    "        print('Error')\n",
    "    else:\n",
    "       print(num*(nombre+' '))\n",
    "\n",
    "repetir_nombre()"
   ]
  },
  {
   "cell_type": "markdown",
   "metadata": {},
   "source": [
    "####  Exercici 4\n",
    "Crea un programa que donada una llista qualsevol, et digui si es simètrica o no. Si ho és, que et digui quants elements té.\n"
   ]
  },
  {
   "cell_type": "code",
   "execution_count": 2,
   "metadata": {},
   "outputs": [
    {
     "name": "stdout",
     "output_type": "stream",
     "text": [
      "8\n"
     ]
    }
   ],
   "source": [
    "def chequeo_simetria(list):\n",
    "    length = len(list)\n",
    "    if length%2 == 0:\n",
    "        return False\n",
    "    else:\n",
    "        return True\n",
    "import random\n",
    "list = random.sample(range(1, 50), 8)\n",
    "print(len(list))\n"
   ]
  },
  {
   "cell_type": "code",
   "execution_count": 3,
   "metadata": {},
   "outputs": [
    {
     "name": "stdout",
     "output_type": "stream",
     "text": [
      "8\n"
     ]
    },
    {
     "data": {
      "text/plain": [
       "False"
      ]
     },
     "execution_count": 3,
     "metadata": {},
     "output_type": "execute_result"
    }
   ],
   "source": [
    "import random\n",
    "list = random.sample(range(1, 50), 8)\n",
    "\n",
    "chequeo_simetria(list)\n"
   ]
  },
  {
   "cell_type": "markdown",
   "metadata": {},
   "source": [
    "#### Exercici 5\n",
    "Crea un programa que donada una llista, et digui quants números coincideixen amb la seva posició. Per exemple [3,4,2,0,2,3,6] el 2 i el 6 coincideixen."
   ]
  },
  {
   "cell_type": "code",
   "execution_count": 155,
   "metadata": {},
   "outputs": [
    {
     "name": "stdout",
     "output_type": "stream",
     "text": [
      "[8 9 2 3 8]\n",
      "Los indices que coinciden son:[2, 3]\n"
     ]
    }
   ],
   "source": [
    "import numpy as np \n",
    "\n",
    "arreglo = np.random.randint(1,10,5)\n",
    "print(arreglo)\n",
    "index_coinciden = []\n",
    "\n",
    "for i in arreglo:\n",
    "   if i<= len(arreglo) and i == arreglo[i]:\n",
    "    index_coinciden.append(i)\n",
    "\n",
    "print('Los indices que coinciden son:'+str(index_coinciden))"
   ]
  }
 ],
 "metadata": {
  "interpreter": {
   "hash": "200def6cb94efbbe49cc2b8fac879d31684949201b31c878ad4c5c6bd0710b45"
  },
  "kernelspec": {
   "display_name": "Python 3.9.7 ('base')",
   "language": "python",
   "name": "python3"
  },
  "language_info": {
   "codemirror_mode": {
    "name": "ipython",
    "version": 3
   },
   "file_extension": ".py",
   "mimetype": "text/x-python",
   "name": "python",
   "nbconvert_exporter": "python",
   "pygments_lexer": "ipython3",
   "version": "3.9.7"
  },
  "orig_nbformat": 4
 },
 "nbformat": 4,
 "nbformat_minor": 2
}
