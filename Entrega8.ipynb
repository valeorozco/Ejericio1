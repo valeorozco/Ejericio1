{
 "cells": [
  {
   "cell_type": "markdown",
   "metadata": {},
   "source": [
    "#### Visualització gràfica de Múltiples variables"
   ]
  },
  {
   "cell_type": "code",
   "execution_count": 119,
   "metadata": {},
   "outputs": [],
   "source": [
    "import matplotlib.pyplot as plt\n",
    "import pandas as pd\n",
    "from pandas import Series, DataFrame\n",
    "import seaborn as sns\n",
    "import warnings\n",
    "import numpy as np\n",
    "\n",
    "warnings.filterwarnings('ignore')\n",
    "%matplotlib inline"
   ]
  },
  {
   "cell_type": "markdown",
   "metadata": {},
   "source": [
    "### Exercici 1\n",
    "Realitza la pràctica del notebook a GitHub \"03 EXAMINING DATA\" amb seaborn i el dataset \"tips\"."
   ]
  },
  {
   "cell_type": "code",
   "execution_count": 120,
   "metadata": {},
   "outputs": [
    {
     "data": {
      "text/html": [
       "<div>\n",
       "<style scoped>\n",
       "    .dataframe tbody tr th:only-of-type {\n",
       "        vertical-align: middle;\n",
       "    }\n",
       "\n",
       "    .dataframe tbody tr th {\n",
       "        vertical-align: top;\n",
       "    }\n",
       "\n",
       "    .dataframe thead th {\n",
       "        text-align: right;\n",
       "    }\n",
       "</style>\n",
       "<table border=\"1\" class=\"dataframe\">\n",
       "  <thead>\n",
       "    <tr style=\"text-align: right;\">\n",
       "      <th></th>\n",
       "      <th>total_bill</th>\n",
       "      <th>tip</th>\n",
       "      <th>sex</th>\n",
       "      <th>smoker</th>\n",
       "      <th>day</th>\n",
       "      <th>time</th>\n",
       "      <th>size</th>\n",
       "    </tr>\n",
       "  </thead>\n",
       "  <tbody>\n",
       "    <tr>\n",
       "      <th>0</th>\n",
       "      <td>16.99</td>\n",
       "      <td>1.01</td>\n",
       "      <td>Female</td>\n",
       "      <td>No</td>\n",
       "      <td>Sun</td>\n",
       "      <td>Dinner</td>\n",
       "      <td>2</td>\n",
       "    </tr>\n",
       "    <tr>\n",
       "      <th>1</th>\n",
       "      <td>10.34</td>\n",
       "      <td>1.66</td>\n",
       "      <td>Male</td>\n",
       "      <td>No</td>\n",
       "      <td>Sun</td>\n",
       "      <td>Dinner</td>\n",
       "      <td>3</td>\n",
       "    </tr>\n",
       "    <tr>\n",
       "      <th>2</th>\n",
       "      <td>21.01</td>\n",
       "      <td>3.50</td>\n",
       "      <td>Male</td>\n",
       "      <td>No</td>\n",
       "      <td>Sun</td>\n",
       "      <td>Dinner</td>\n",
       "      <td>3</td>\n",
       "    </tr>\n",
       "    <tr>\n",
       "      <th>3</th>\n",
       "      <td>23.68</td>\n",
       "      <td>3.31</td>\n",
       "      <td>Male</td>\n",
       "      <td>No</td>\n",
       "      <td>Sun</td>\n",
       "      <td>Dinner</td>\n",
       "      <td>2</td>\n",
       "    </tr>\n",
       "    <tr>\n",
       "      <th>4</th>\n",
       "      <td>24.59</td>\n",
       "      <td>3.61</td>\n",
       "      <td>Female</td>\n",
       "      <td>No</td>\n",
       "      <td>Sun</td>\n",
       "      <td>Dinner</td>\n",
       "      <td>4</td>\n",
       "    </tr>\n",
       "  </tbody>\n",
       "</table>\n",
       "</div>"
      ],
      "text/plain": [
       "   total_bill   tip     sex smoker  day    time  size\n",
       "0       16.99  1.01  Female     No  Sun  Dinner     2\n",
       "1       10.34  1.66    Male     No  Sun  Dinner     3\n",
       "2       21.01  3.50    Male     No  Sun  Dinner     3\n",
       "3       23.68  3.31    Male     No  Sun  Dinner     2\n",
       "4       24.59  3.61  Female     No  Sun  Dinner     4"
      ]
     },
     "execution_count": 120,
     "metadata": {},
     "output_type": "execute_result"
    }
   ],
   "source": [
    "data = pd.read_csv('tips.csv')\n",
    "df = pd.DataFrame(data)\n",
    "df.head()"
   ]
  },
  {
   "cell_type": "markdown",
   "metadata": {},
   "source": [
    "The dataset is composed by the following variables:\n",
    "\n",
    "1. **total_bill** - Total bill value in dolars\n",
    "2. **tip** - Tip value in dolars\n",
    "3. **sex** - Gender of the person that pays at the restaurant\n",
    "4. **smoker** - If withing the group of diners\n",
    "5. **day** - Day of the week\n",
    "6. **time** - Time of the day\n",
    "7. **size** - Group size of those who visit the restaurant."
   ]
  },
  {
   "cell_type": "markdown",
   "metadata": {},
   "source": [
    "### EXPLORING BIVARIATE VARIABLES WITH SCATTERPLOTS\n",
    "We will use a Scatterplot to examine how *the size of the group* and *tip* are related in the tips dataset."
   ]
  },
  {
   "cell_type": "code",
   "execution_count": 121,
   "metadata": {},
   "outputs": [
    {
     "data": {
      "image/png": "[encoded data removed]",
      "text/plain": [
       "<Figure size 432x288 with 1 Axes>"
      ]
     },
     "metadata": {
      "needs_background": "light"
     },
     "output_type": "display_data"
    }
   ],
   "source": [
    "x = df['tip']\n",
    "y = df['size']\n",
    "\n",
    "fig, ax = plt.subplots()\n",
    "ax.scatter(x,y, color= 'purple')\n",
    "ax.set_title('Relation between tip and size of the group')\n",
    "ax.set_xlabel('Tip values')\n",
    "ax.set_ylabel('Size of the group values')\n",
    "plt.show()\n"
   ]
  },
  {
   "cell_type": "markdown",
   "metadata": {},
   "source": [
    "It can be seen there is no relation between both tip values and size of the group values. Thus, the size of the group does not influence how large or little tips are.\n",
    "Now, we will use a scatterplot to examine the relationship between two other variables, such as the *total value for the bill* and the *tip*."
   ]
  },
  {
   "cell_type": "code",
   "execution_count": 122,
   "metadata": {},
   "outputs": [
    {
     "data": {
      "text/plain": [
       "\"fig, ax = plt.subplots()\\nax.scatter(x,y, color= 'purple')\\nax.set_title('Relation between tip and total bill')\\nax.set_xlabel('Tip values')\\nax.set_ylabel('Values for total bill')\\nplt.show()\""
      ]
     },
     "execution_count": 122,
     "metadata": {},
     "output_type": "execute_result"
    },
    {
     "data": {
      "image/png": "[encoded data removed]",
      "text/plain": [
       "<Figure size 432x432 with 3 Axes>"
      ]
     },
     "metadata": {
      "needs_background": "light"
     },
     "output_type": "display_data"
    }
   ],
   "source": [
    "sns.jointplot(x= 'tip', y= 'total_bill', data= df)\n",
    "\n",
    "\"\"\"fig, ax = plt.subplots()\n",
    "ax.scatter(x,y, color= 'purple')\n",
    "ax.set_title('Relation between tip and total bill')\n",
    "ax.set_xlabel('Tip values')\n",
    "ax.set_ylabel('Values for total bill')\n",
    "plt.show()\"\"\""
   ]
  },
  {
   "cell_type": "markdown",
   "metadata": {},
   "source": [
    "The plot shows a linear shape, which indicates that bot variables *tips* and *total bill value* are positively related. In other words, the higher the values for total bill, the higher the values for tips. Similarly, the lower the values for total bill, the lower those for tips as well."
   ]
  },
  {
   "cell_type": "markdown",
   "metadata": {},
   "source": [
    "### EXPLORING DATA WITH HISTOGRAMS\n",
    "Below there will be an exploration of the data and its distribution using histograms, along with a description of the categorical columns from the database.\n",
    "This will serve to recognize the shape of the data, that is to say, whether it is right skewed or left skewed. "
   ]
  },
  {
   "cell_type": "code",
   "execution_count": 123,
   "metadata": {},
   "outputs": [
    {
     "data": {
      "image/png": "[encoded data removed]",
      "text/plain": [
       "<Figure size 1080x432 with 4 Axes>"
      ]
     },
     "metadata": {
      "needs_background": "light"
     },
     "output_type": "display_data"
    }
   ],
   "source": [
    "#Distribution of men and woman in the dataset #add the numbers on the bars\n",
    "gender = df['sex']\n",
    "time = df['time']\n",
    "day = df['day']\n",
    "smokers = df['smoker']\n",
    "\n",
    "fig,ax = plt.subplots(nrows=1, ncols= 4, figsize = (15,6))\n",
    "\n",
    "ax[0].hist(gender, bins= 3, color = 'red',alpha = 0.3)    \n",
    "ax[0].set_title('Distribution of data by gender')\n",
    "ax[0].set_xlabel('Gender')\n",
    "ax[0].set_ylabel('Frequency on the dataset')\n",
    "\n",
    "ax[1].hist(time, bins= 3, color = 'blue', alpha = 0.3)\n",
    "ax[1].set_title('Distribution of data by time of the day')\n",
    "ax[1].set_xlabel('Time')\n",
    "ax[1].set_ylabel('Frequency on the dataset')\n",
    "\n",
    "\n",
    "ax[2].hist(day, bins= 7, color = 'green', alpha = 0.3)\n",
    "ax[2].set_title('Distribution of data by day')\n",
    "ax[2].set_xlabel('Day')\n",
    "ax[2].set_ylabel('Frequency on the dataset')\n",
    "\n",
    "ax[3].hist(smokers, bins= 3, color = 'purple', alpha = 0.3)\n",
    "ax[3].set_title('Distribution of data by smokers')\n",
    "ax[3].set_xlabel('Smokers')\n",
    "ax[3].set_ylabel('Frequency on the dataset')\n",
    "plt.tight_layout()\n",
    "plt.show()\n"
   ]
  },
  {
   "cell_type": "markdown",
   "metadata": {},
   "source": [
    "The histograms reveal certain insights:\n",
    "1. The histogram shows the data gather for the data set tips has larger male data compared to female data. This could mean that those who pay the bill are more often men compared to women by the numbers displayed.\n",
    "2. The distribution shows there is way more people attending to the restaurant during dinner than during lunch time.\n",
    "3. Both Saturday and Sunday are the days in which there is higher demand at the restaurant. The data set seems to be slightly right skewed.\n",
    "4. More smokers than non-smokers visit the restaurant.\n",
    "\n",
    "\n",
    "\n",
    "Barplots also help in the understanding of the distribution of categorical data as well.\n",
    "We can verify how the distribution differs when it comes to the values for the bill."
   ]
  },
  {
   "cell_type": "code",
   "execution_count": 124,
   "metadata": {},
   "outputs": [
    {
     "data": {
      "text/plain": [
       "Text(0.5, 1.0, 'Total bill by gender')"
      ]
     },
     "execution_count": 124,
     "metadata": {},
     "output_type": "execute_result"
    },
    {
     "data": {
      "image/png": "[encoded data removed]",
      "text/plain": [
       "<Figure size 1080x432 with 3 Axes>"
      ]
     },
     "metadata": {
      "needs_background": "light"
     },
     "output_type": "display_data"
    }
   ],
   "source": [
    "fig, ax = plt.subplots(nrows= 1, ncols= 3, figsize = (15,6))\n",
    "fig.suptitle('Descriptive distribution for the categorical columns in the dataset')\n",
    "\n",
    "\n",
    "sns.boxplot(ax = ax[0], x='day',y='total_bill', data=df)\n",
    "ax[0].set_title('Total bill by day')\n",
    "\n",
    "sns.boxplot(ax = ax[1],x='time',y='total_bill',data=df)\n",
    "ax[1].set_title('Total bill by time of the day')\n",
    "\n",
    "sns.boxplot(ax = ax[2], x='sex',y='total_bill',data=df)\n",
    "ax[2].set_title('Total bill by gender')"
   ]
  },
  {
   "cell_type": "markdown",
   "metadata": {},
   "source": [
    "From the barplots it can be inferred that:\n",
    "1. People tend to spend more money on weekends at the restaurant. \n",
    "3. Usually the total bill is higher for dinner compared to lunch.\n",
    "4. Men in average pay bills with higher values compared to women."
   ]
  },
  {
   "cell_type": "code",
   "execution_count": 125,
   "metadata": {},
   "outputs": [
    {
     "data": {
      "image/png": "[encoded data removed]",
      "text/plain": [
       "<Figure size 576x360 with 2 Axes>"
      ]
     },
     "metadata": {
      "needs_background": "light"
     },
     "output_type": "display_data"
    }
   ],
   "source": [
    "#Further exploration of the distribution of bill and tips per gender\n",
    "tip = df['tip']\n",
    "total_bill = df['total_bill']\n",
    "fig, ax = plt.subplots(nrows=1, ncols=2, figsize = (8,5))\n",
    "\n",
    "ax[0].bar(gender, tip, color = 'orange')\n",
    "ax[0].set_title('Tips by gender')\n",
    "ax[0].set_xlabel('Gender')\n",
    "ax[0].set_ylabel('Tips')\n",
    "\n",
    "ax[1].bar(gender, total_bill, color = 'yellow')\n",
    "ax[1].set_title('Total bill by gender')\n",
    "ax[1].set_xlabel('Gender')\n",
    "ax[1].set_ylabel('Bill')\n",
    "\n",
    "plt.show()"
   ]
  },
  {
   "cell_type": "markdown",
   "metadata": {},
   "source": [
    "The histograms show men tip higher than woman at this restaurant. Also, men spend more money on the bill compared to women."
   ]
  },
  {
   "cell_type": "markdown",
   "metadata": {},
   "source": [
    "### EXPLORING THE MODAL DISTRIBUTION OF DATA\n",
    "The mode is the value with most occurrences, for the dataset we will evaluate the most frequent values on both the size of groups that attend the restaurant and the tip values."
   ]
  },
  {
   "cell_type": "code",
   "execution_count": 126,
   "metadata": {},
   "outputs": [
    {
     "name": "stdout",
     "output_type": "stream",
     "text": [
      "The most frequent group size visiting the restaurant is 0    2\n",
      "Name: size, dtype: int64\n",
      "The most frequent tip value at the restaurant is 0    2.0\n",
      "Name: tip, dtype: float64\n"
     ]
    }
   ],
   "source": [
    "most_frequent_sizegroup =df.mode()['size']\n",
    "print('The most frequent group size visiting the restaurant is '+ str(most_frequent_sizegroup))\n",
    "most_frequent_tip_value = df.mode()['tip']\n",
    "print('The most frequent tip value at the restaurant is '+ str(most_frequent_tip_value))\n"
   ]
  },
  {
   "cell_type": "code",
   "execution_count": 127,
   "metadata": {},
   "outputs": [
    {
     "data": {
      "image/png": "[encoded data removed]",
      "text/plain": [
       "<Figure size 576x360 with 2 Axes>"
      ]
     },
     "metadata": {
      "needs_background": "light"
     },
     "output_type": "display_data"
    }
   ],
   "source": [
    "size = df['size']\n",
    "tip = df['tip']\n",
    "\n",
    "fig,ax = plt.subplots(nrows=1, ncols=2,figsize = (8,5))\n",
    "ax[0].hist(size, bins= 10, color = 'green',alpha = 0.5)\n",
    "ax[0].set_title('Frequency of group sizes')\n",
    "ax[0].set_xlabel('Group sizes')\n",
    "ax[0].set_ylabel('Frequency')\n",
    "\n",
    "\n",
    "ax[1].hist(tip, bins= 20, color = 'blue', alpha = 0.5)\n",
    "ax[1].set_title('Frequency of tips')\n",
    "ax[1].set_xlabel('Tips')\n",
    "ax[1].set_ylabel('Frequency')\n",
    "\n",
    "plt.show()"
   ]
  },
  {
   "cell_type": "markdown",
   "metadata": {},
   "source": [
    "The previous graph, shows visually the mode for both plots. \n",
    "* For group size being 2, therefore the most comon group size to visit the restaurant is 2 people.\n",
    "* For tips, the most common value being 2. "
   ]
  },
  {
   "cell_type": "markdown",
   "metadata": {},
   "source": [
    "### SUMMARY STATISTICS"
   ]
  },
  {
   "cell_type": "markdown",
   "metadata": {},
   "source": [
    "#### Mean - Average"
   ]
  },
  {
   "cell_type": "code",
   "execution_count": 128,
   "metadata": {},
   "outputs": [
    {
     "name": "stdout",
     "output_type": "stream",
     "text": [
      "The mean of tips at the restaurant is 2.9982786885245902\n",
      "The mean of bill cost at the restaurant is 19.785942622950824\n"
     ]
    }
   ],
   "source": [
    "av_tip_value = df['tip'].mean()\n",
    "print('The mean of tips at the restaurant is '+ str(av_tip_value))\n",
    "\n",
    "av_bill_value = df['total_bill'].mean()\n",
    "print('The mean of bill cost at the restaurant is '+ str(av_bill_value))"
   ]
  },
  {
   "cell_type": "code",
   "execution_count": 129,
   "metadata": {},
   "outputs": [
    {
     "data": {
      "image/png": "[encoded data removed]",
      "text/plain": [
       "<Figure size 576x360 with 2 Axes>"
      ]
     },
     "metadata": {
      "needs_background": "light"
     },
     "output_type": "display_data"
    }
   ],
   "source": [
    "fig,ax = plt.subplots(nrows=1, ncols=2,figsize = (8,5))\n",
    "ax[0].hist(tip, bins= 20, color = 'blue', alpha = 0.5)\n",
    "ax[0].set_title('Frequency of tips')\n",
    "ax[0].set_xlabel('Tips')\n",
    "ax[0].set_ylabel('Frequency')\n",
    "ax[0].axhline(tip.mean(),\n",
    "           color='blue',\n",
    "           linestyle='--',\n",
    "           linewidth= 2)\n",
    "ax[1].hist(total_bill, bins= 20, color = 'green', alpha = 0.5)\n",
    "ax[1].set_title('Frequency of values in bill')\n",
    "ax[1].set_xlabel('Bill values')\n",
    "ax[1].set_ylabel('Frequency')\n",
    "ax[1].axhline(total_bill.mean(),\n",
    "           color='green',\n",
    "           linestyle='--',\n",
    "           linewidth= 2)\n",
    "plt.show()"
   ]
  },
  {
   "cell_type": "markdown",
   "metadata": {},
   "source": [
    "Both the distribution of tips and bill are right skewed distributions, that is to say the values are mainly concentrated to the left side of the distribution. For both tips and bill values this means that people do not tend to consume expensive plates or leave high tips."
   ]
  },
  {
   "cell_type": "markdown",
   "metadata": {},
   "source": [
    "### Standar deviation"
   ]
  },
  {
   "cell_type": "code",
   "execution_count": 130,
   "metadata": {},
   "outputs": [
    {
     "name": "stdout",
     "output_type": "stream",
     "text": [
      "The standar deviation of tips at the restaurant is 1.3836381890011826\n",
      "The standar deviation of bill cost at the restaurant is 8.902411954856856\n"
     ]
    }
   ],
   "source": [
    "std_tip_value = df['tip'].std()\n",
    "print('The standar deviation of tips at the restaurant is '+ str(std_tip_value))\n",
    "\n",
    "std_bill_value = df['total_bill'].std()\n",
    "print('The standar deviation of bill cost at the restaurant is '+ str(std_bill_value))"
   ]
  },
  {
   "cell_type": "code",
   "execution_count": 131,
   "metadata": {},
   "outputs": [
    {
     "data": {
      "image/png": "[encoded data removed]",
      "text/plain": [
       "<Figure size 576x360 with 2 Axes>"
      ]
     },
     "metadata": {
      "needs_background": "light"
     },
     "output_type": "display_data"
    }
   ],
   "source": [
    "fig,ax = plt.subplots(nrows=1, ncols=2,figsize = (8,5))\n",
    "ax[0].hist(tip, bins= 20, color = 'blue', alpha = 0.5)\n",
    "ax[0].set_title('Frequency of tips')\n",
    "ax[0].set_xlabel('Tips')\n",
    "ax[0].set_ylabel('Frequency')\n",
    "ax[0].axhline(std_tip_value,\n",
    "           color='blue',\n",
    "           linestyle='--',\n",
    "           linewidth= 2)\n",
    "ax[0].axhline(av_tip_value,\n",
    "           color='black',\n",
    "           linestyle=':',\n",
    "           linewidth= 2)\n",
    "ax[1].hist(total_bill, bins= 20, color = 'green', alpha = 0.5)\n",
    "ax[1].set_title('Frequency of values in bill')\n",
    "ax[1].set_xlabel('Bill values')\n",
    "ax[1].set_ylabel('Frequency')\n",
    "ax[1].axhline(std_bill_value,\n",
    "           color='green',\n",
    "           linestyle='--',\n",
    "           linewidth= 2)\n",
    "ax[1].axhline(av_bill_value,\n",
    "           color='black',\n",
    "           linestyle=':',\n",
    "           linewidth= 2)\n",
    "plt.show()"
   ]
  },
  {
   "cell_type": "markdown",
   "metadata": {},
   "source": [
    "The standard deviation is described in dashed lines while the average in dotted ones.\n",
    "It can be seen that the average of tips is below 5 dollars and for bills below 20. While the standar deviation, which shows how distributed the data is. It can be seen that for tips it is not largely distributed, whereas for the bill value it is significantly distributed. This means, that the values for total_bill are more spread out, than the values for tips."
   ]
  },
  {
   "cell_type": "markdown",
   "metadata": {},
   "source": [
    "### MOVIES DATA SET ANALYSIS WITH SEABORN"
   ]
  },
  {
   "cell_type": "markdown",
   "metadata": {},
   "source": [
    "First, we prepare the data and organize it in columns, since the columns had to titles before."
   ]
  },
  {
   "cell_type": "code",
   "execution_count": 132,
   "metadata": {},
   "outputs": [
    {
     "data": {
      "text/html": [
       "<div>\n",
       "<style scoped>\n",
       "    .dataframe tbody tr th:only-of-type {\n",
       "        vertical-align: middle;\n",
       "    }\n",
       "\n",
       "    .dataframe tbody tr th {\n",
       "        vertical-align: top;\n",
       "    }\n",
       "\n",
       "    .dataframe thead th {\n",
       "        text-align: right;\n",
       "    }\n",
       "</style>\n",
       "<table border=\"1\" class=\"dataframe\">\n",
       "  <thead>\n",
       "    <tr style=\"text-align: right;\">\n",
       "      <th></th>\n",
       "      <th>Title</th>\n",
       "      <th>Genre</th>\n",
       "    </tr>\n",
       "  </thead>\n",
       "  <tbody>\n",
       "    <tr>\n",
       "      <th>0</th>\n",
       "      <td>Toy Story (1995)</td>\n",
       "      <td>Animation|Children's|Comedy</td>\n",
       "    </tr>\n",
       "    <tr>\n",
       "      <th>1</th>\n",
       "      <td>Jumanji (1995)</td>\n",
       "      <td>Adventure|Children's|Fantasy</td>\n",
       "    </tr>\n",
       "    <tr>\n",
       "      <th>2</th>\n",
       "      <td>Grumpier Old Men (1995)</td>\n",
       "      <td>Comedy|Romance</td>\n",
       "    </tr>\n",
       "    <tr>\n",
       "      <th>3</th>\n",
       "      <td>Waiting to Exhale (1995)</td>\n",
       "      <td>Comedy|Drama</td>\n",
       "    </tr>\n",
       "    <tr>\n",
       "      <th>4</th>\n",
       "      <td>Father of the Bride Part II (1995)</td>\n",
       "      <td>Comedy</td>\n",
       "    </tr>\n",
       "  </tbody>\n",
       "</table>\n",
       "</div>"
      ],
      "text/plain": [
       "                                Title                         Genre\n",
       "0                    Toy Story (1995)   Animation|Children's|Comedy\n",
       "1                      Jumanji (1995)  Adventure|Children's|Fantasy\n",
       "2             Grumpier Old Men (1995)                Comedy|Romance\n",
       "3            Waiting to Exhale (1995)                  Comedy|Drama\n",
       "4  Father of the Bride Part II (1995)                        Comedy"
      ]
     },
     "execution_count": 132,
     "metadata": {},
     "output_type": "execute_result"
    }
   ],
   "source": [
    "df1 = pd.read_csv('movies.csv',sep=\"::\", header=None, \n",
    "                    names=[\"ID\",\"Title\", \"Genre\"],\n",
    "                    encoding=\"latin-1\", engine=\"python\")\n",
    "df1.drop(\"ID\", axis = 1, inplace = True)\n",
    "df1.head()"
   ]
  },
  {
   "cell_type": "code",
   "execution_count": 133,
   "metadata": {},
   "outputs": [
    {
     "data": {
      "text/html": [
       "<div>\n",
       "<style scoped>\n",
       "    .dataframe tbody tr th:only-of-type {\n",
       "        vertical-align: middle;\n",
       "    }\n",
       "\n",
       "    .dataframe tbody tr th {\n",
       "        vertical-align: top;\n",
       "    }\n",
       "\n",
       "    .dataframe thead th {\n",
       "        text-align: right;\n",
       "    }\n",
       "</style>\n",
       "<table border=\"1\" class=\"dataframe\">\n",
       "  <thead>\n",
       "    <tr style=\"text-align: right;\">\n",
       "      <th></th>\n",
       "      <th>Title</th>\n",
       "      <th>Genre</th>\n",
       "      <th>Year</th>\n",
       "    </tr>\n",
       "  </thead>\n",
       "  <tbody>\n",
       "    <tr>\n",
       "      <th>0</th>\n",
       "      <td>Toy Story</td>\n",
       "      <td>Animation|Children's|Comedy</td>\n",
       "      <td>1995</td>\n",
       "    </tr>\n",
       "    <tr>\n",
       "      <th>1</th>\n",
       "      <td>Jumanji</td>\n",
       "      <td>Adventure|Children's|Fantasy</td>\n",
       "      <td>1995</td>\n",
       "    </tr>\n",
       "    <tr>\n",
       "      <th>2</th>\n",
       "      <td>Grumpier Old Men</td>\n",
       "      <td>Comedy|Romance</td>\n",
       "      <td>1995</td>\n",
       "    </tr>\n",
       "    <tr>\n",
       "      <th>3</th>\n",
       "      <td>Waiting to Exhale</td>\n",
       "      <td>Comedy|Drama</td>\n",
       "      <td>1995</td>\n",
       "    </tr>\n",
       "    <tr>\n",
       "      <th>4</th>\n",
       "      <td>Father of the Bride Part II</td>\n",
       "      <td>Comedy</td>\n",
       "      <td>1995</td>\n",
       "    </tr>\n",
       "  </tbody>\n",
       "</table>\n",
       "</div>"
      ],
      "text/plain": [
       "                          Title                         Genre  Year\n",
       "0                    Toy Story    Animation|Children's|Comedy  1995\n",
       "1                      Jumanji   Adventure|Children's|Fantasy  1995\n",
       "2             Grumpier Old Men                 Comedy|Romance  1995\n",
       "3            Waiting to Exhale                   Comedy|Drama  1995\n",
       "4  Father of the Bride Part II                         Comedy  1995"
      ]
     },
     "execution_count": 133,
     "metadata": {},
     "output_type": "execute_result"
    }
   ],
   "source": [
    "df1['Year'] = df1['Title'].str.extract(r'\\((\\d{4})\\)')\n",
    "df1.replace('\\(\\d{4}\\)', '', regex=True, inplace=True)\n",
    "df1.head()"
   ]
  },
  {
   "cell_type": "code",
   "execution_count": 134,
   "metadata": {},
   "outputs": [
    {
     "data": {
      "image/png": "[encoded data removed]",
      "text/plain": [
       "<Figure size 1080x432 with 1 Axes>"
      ]
     },
     "metadata": {
      "needs_background": "light"
     },
     "output_type": "display_data"
    }
   ],
   "source": [
    "img, ax = plt.subplots(figsize = (15,6))\n",
    "\n",
    "sns.distplot(df1['Year'], bins = 30)\n",
    "ax.set_title('MOVIES PER YEAR')\n",
    "plt.show()"
   ]
  },
  {
   "cell_type": "code",
   "execution_count": 135,
   "metadata": {},
   "outputs": [],
   "source": [
    "g = df1['Genre'].str.split(\"|\").apply(Series,1).stack()\n",
    "g.index = g.index.droplevel(-1)\n",
    "g.name = 'Genres'\n",
    "del df1['Genre']\n",
    "split_genres = df1.join(g)"
   ]
  },
  {
   "cell_type": "code",
   "execution_count": 137,
   "metadata": {},
   "outputs": [
    {
     "data": {
      "text/html": [
       "<div>\n",
       "<style scoped>\n",
       "    .dataframe tbody tr th:only-of-type {\n",
       "        vertical-align: middle;\n",
       "    }\n",
       "\n",
       "    .dataframe tbody tr th {\n",
       "        vertical-align: top;\n",
       "    }\n",
       "\n",
       "    .dataframe thead th {\n",
       "        text-align: right;\n",
       "    }\n",
       "</style>\n",
       "<table border=\"1\" class=\"dataframe\">\n",
       "  <thead>\n",
       "    <tr style=\"text-align: right;\">\n",
       "      <th></th>\n",
       "      <th>Title</th>\n",
       "    </tr>\n",
       "    <tr>\n",
       "      <th>Genres</th>\n",
       "      <th></th>\n",
       "    </tr>\n",
       "  </thead>\n",
       "  <tbody>\n",
       "    <tr>\n",
       "      <th>Film-Noir</th>\n",
       "      <td>44</td>\n",
       "    </tr>\n",
       "    <tr>\n",
       "      <th>Fantasy</th>\n",
       "      <td>68</td>\n",
       "    </tr>\n",
       "    <tr>\n",
       "      <th>Western</th>\n",
       "      <td>68</td>\n",
       "    </tr>\n",
       "    <tr>\n",
       "      <th>Animation</th>\n",
       "      <td>101</td>\n",
       "    </tr>\n",
       "    <tr>\n",
       "      <th>Mystery</th>\n",
       "      <td>105</td>\n",
       "    </tr>\n",
       "    <tr>\n",
       "      <th>Musical</th>\n",
       "      <td>113</td>\n",
       "    </tr>\n",
       "    <tr>\n",
       "      <th>Documentary</th>\n",
       "      <td>125</td>\n",
       "    </tr>\n",
       "    <tr>\n",
       "      <th>War</th>\n",
       "      <td>143</td>\n",
       "    </tr>\n",
       "    <tr>\n",
       "      <th>Crime</th>\n",
       "      <td>208</td>\n",
       "    </tr>\n",
       "    <tr>\n",
       "      <th>Children's</th>\n",
       "      <td>244</td>\n",
       "    </tr>\n",
       "    <tr>\n",
       "      <th>Sci-Fi</th>\n",
       "      <td>270</td>\n",
       "    </tr>\n",
       "    <tr>\n",
       "      <th>Adventure</th>\n",
       "      <td>281</td>\n",
       "    </tr>\n",
       "    <tr>\n",
       "      <th>Horror</th>\n",
       "      <td>332</td>\n",
       "    </tr>\n",
       "    <tr>\n",
       "      <th>Romance</th>\n",
       "      <td>464</td>\n",
       "    </tr>\n",
       "    <tr>\n",
       "      <th>Thriller</th>\n",
       "      <td>482</td>\n",
       "    </tr>\n",
       "    <tr>\n",
       "      <th>Action</th>\n",
       "      <td>497</td>\n",
       "    </tr>\n",
       "    <tr>\n",
       "      <th>Comedy</th>\n",
       "      <td>1181</td>\n",
       "    </tr>\n",
       "    <tr>\n",
       "      <th>Drama</th>\n",
       "      <td>1555</td>\n",
       "    </tr>\n",
       "  </tbody>\n",
       "</table>\n",
       "</div>"
      ],
      "text/plain": [
       "             Title\n",
       "Genres            \n",
       "Film-Noir       44\n",
       "Fantasy         68\n",
       "Western         68\n",
       "Animation      101\n",
       "Mystery        105\n",
       "Musical        113\n",
       "Documentary    125\n",
       "War            143\n",
       "Crime          208\n",
       "Children's     244\n",
       "Sci-Fi         270\n",
       "Adventure      281\n",
       "Horror         332\n",
       "Romance        464\n",
       "Thriller       482\n",
       "Action         497\n",
       "Comedy        1181\n",
       "Drama         1555"
      ]
     },
     "execution_count": 137,
     "metadata": {},
     "output_type": "execute_result"
    }
   ],
   "source": [
    "genre_df = (pd.DataFrame(split_genres.groupby('Genres').Title.nunique())).sort_values('Title',ascending=True)\n",
    "genre_df"
   ]
  },
  {
   "cell_type": "code",
   "execution_count": null,
   "metadata": {},
   "outputs": [
    {
     "data": {
      "text/plain": [
       "<AxesSubplot:title={'center':'Movies per Genre'}, ylabel='Genres'>"
      ]
     },
     "execution_count": 94,
     "metadata": {},
     "output_type": "execute_result"
    },
    {
     "data": {
      "image/png": "[encoded data removed]",
      "text/plain": [
       "<Figure size 720x648 with 1 Axes>"
      ]
     },
     "metadata": {
      "needs_background": "light"
     },
     "output_type": "display_data"
    }
   ],
   "source": [
    "genre_df['Title'].plot.barh(title = 'Movies per Genre',color='orange', width=0.7,figsize=(10, 9))\n",
    "plt.show()"
   ]
  }
 ],
 "metadata": {
  "interpreter": {
   "hash": "2457de16549bda2ea19f462abbb8ee75322c13e2a4d708fd29b237268ab2c90c"
  },
  "kernelspec": {
   "display_name": "Python 3.9.7 ('base')",
   "language": "python",
   "name": "python3"
  },
  "language_info": {
   "codemirror_mode": {
    "name": "ipython",
    "version": 3
   },
   "file_extension": ".py",
   "mimetype": "text/x-python",
   "name": "python",
   "nbconvert_exporter": "python",
   "pygments_lexer": "ipython3",
   "version": "3.9.7"
  },
  "orig_nbformat": 4
 },
 "nbformat": 4,
 "nbformat_minor": 2
}
