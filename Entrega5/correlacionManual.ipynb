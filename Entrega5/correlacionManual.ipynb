{
 "cells": [
  {
   "cell_type": "markdown",
   "metadata": {},
   "source": [
    "#### Entrega 5: Pràctica amb programació numèrica\n",
    "##### Valeria Orozco Castiblanco"
   ]
  },
  {
   "cell_type": "markdown",
   "metadata": {},
   "source": [
    "#### Exercici 1\n",
    "Crea una funció que donat un Array d’una dimensió, et faci un resum estadístic bàsic de les dades. Si detecta que l’array té més d’una dimensió, ha de mostrar un missatge d’error."
   ]
  },
  {
   "cell_type": "code",
   "execution_count": 4,
   "metadata": {},
   "outputs": [],
   "source": [
    "import pandas as pd\n",
    "import numpy as np\n",
    "\n",
    "\n",
    "def statistic_verify(array):\n",
    "    if array.shape != (3,):\n",
    "        print(\"Error, ingrese un arreglo de una dimensión\")\n",
    "    else:\n",
    "        df_array = pd.DataFrame(array)\n",
    "        print(df_array.describe())\n",
    "        "
   ]
  },
  {
   "cell_type": "code",
   "execution_count": 2,
   "metadata": {},
   "outputs": [
    {
     "name": "stdout",
     "output_type": "stream",
     "text": [
      "              0\n",
      "count  3.000000\n",
      "mean   0.657945\n",
      "std    0.105192\n",
      "min    0.554778\n",
      "25%    0.604393\n",
      "50%    0.654008\n",
      "75%    0.709529\n",
      "max    0.765050\n"
     ]
    }
   ],
   "source": [
    "array = np.random.rand(3,)\n",
    "statistic_verify(array)"
   ]
  },
  {
   "cell_type": "markdown",
   "metadata": {},
   "source": [
    "#### Exercici 2\n",
    "Crea una funció que et generi un quadrat NxN de nombres aleatoris entre el 0 i el 100.  "
   ]
  },
  {
   "cell_type": "code",
   "execution_count": 3,
   "metadata": {},
   "outputs": [
    {
     "name": "stdout",
     "output_type": "stream",
     "text": [
      "Las medidas del cuadrado son: 445\n"
     ]
    }
   ],
   "source": [
    "def cuadrado():\n",
    "    lado1 = np.random.randint(1,100)\n",
    "    lado2 = np.random.randint(1,100)\n",
    "    print('Las medidas del cuadrado son: '+str(lado1) + str(lado2))\n",
    "    \n",
    "cuadrado()\n"
   ]
  },
  {
   "cell_type": "markdown",
   "metadata": {},
   "source": [
    "#### Exercici 3\n",
    "Crea una funció que donada una taula de dues dimensions, et calculi els totals per fila i els totals per columna."
   ]
  },
  {
   "cell_type": "code",
   "execution_count": 22,
   "metadata": {},
   "outputs": [],
   "source": [
    "def calcula(tabla):\n",
    "    total_row = np.sum(array,axis = 1)\n",
    "    total_column = np.sum(array,axis = 0)\n",
    "    return total_column, total_row"
   ]
  },
  {
   "cell_type": "code",
   "execution_count": 23,
   "metadata": {},
   "outputs": [
    {
     "data": {
      "text/plain": [
       "(array([20, 40, 60, 80]), array([100, 100]))"
      ]
     },
     "execution_count": 23,
     "metadata": {},
     "output_type": "execute_result"
    }
   ],
   "source": [
    "array =np.array([[10,20,30,40],\n",
    "                 [10,20,30,40]])\n",
    "\n",
    "calcula(array)"
   ]
  },
  {
   "cell_type": "markdown",
   "metadata": {},
   "source": [
    "#### Exercici 4\n",
    "Implementa manualment una funció que calculi el coeficient de correlació. Informa’t-en sobre els seus usos i interpretació."
   ]
  },
  {
   "cell_type": "markdown",
   "metadata": {},
   "source": [
    "El coeficiente de correlación esta definido con la siguiente formula: \n",
    "\n",
    "<img src=\"Correlation.png\" style = \"width:300px; height:100px\"/> "
   ]
  },
  {
   "cell_type": "code",
   "execution_count": 9,
   "metadata": {},
   "outputs": [],
   "source": [
    "lista_diferencia_ventas = []\n",
    "lista_diferencia_temperaturas = []\n",
    "\n",
    "def correlacion(ventas, temperatura):\n",
    "    \n",
    "    media_ventas = int(np.mean(ventas))\n",
    "    media_temperatura = int(np.mean(temperatura))\n",
    "          \n",
    "    #Completing the numerator of the equation\n",
    "    #creating a list with the difference between the value of ventas and its mean value\n",
    "    for i in range (len(ventas)):\n",
    "      distancia_ventas =  ventas[i]-media_ventas \n",
    "      lista_diferencia_ventas.append(distancia_ventas)\n",
    "            \n",
    "      #creating a list with the difference between the value of temperatura and its mean value           \n",
    "    for i in range (len(temperatura)):\n",
    "      distancia_temperatura =  temperatura[i]- media_temperatura \n",
    "      lista_diferencia_temperaturas.append(distancia_temperatura)\n",
    "    #multiplying the arrays            \n",
    "    product_of_differences= np.multiply(lista_diferencia_ventas, lista_diferencia_temperaturas)\n",
    "\n",
    "    #adding the result of the previous multiplication\n",
    "    nominator = np.sum(product_of_differences)\n",
    "\n",
    "  #Completing the denominator from the equation\n",
    "  #Elevate to the power of two the list resulting of the difference between the value of ventas and its mean value\n",
    "    diferencia_ventas_elevadas = np.power(lista_diferencia_ventas,2)\n",
    "    suma_ventas_elevadas = np.sum(diferencia_ventas_elevadas)\n",
    "\n",
    "  #Elevate to the power of two the list resulting of the difference between the value of temperature and its mean value\n",
    "    diferencia_temperatura_elevadas = np.power(lista_diferencia_temperaturas,2)\n",
    "    suma_temperaturas_elevadas = np.sum(diferencia_temperatura_elevadas)\n",
    "  #Multiply both previously defined lists \n",
    "    product_of_sums = np.multiply(suma_temperaturas_elevadas,suma_ventas_elevadas)\n",
    "    denominator = int(np.sqrt(product_of_sums))\n",
    "\n",
    "  #find the correlation\n",
    "    correlation = nominator/denominator\n",
    "    return correlation"
   ]
  },
  {
   "cell_type": "code",
   "execution_count": 10,
   "metadata": {},
   "outputs": [
    {
     "data": {
      "text/plain": [
       "1.0"
      ]
     },
     "execution_count": 10,
     "metadata": {},
     "output_type": "execute_result"
    }
   ],
   "source": [
    "ventas = np.array([3,6,9])\n",
    "temperatura = np.array([70,75,80])\n",
    "\n",
    "correlacion(ventas,temperatura)"
   ]
  }
 ],
 "metadata": {
  "interpreter": {
   "hash": "200def6cb94efbbe49cc2b8fac879d31684949201b31c878ad4c5c6bd0710b45"
  },
  "kernelspec": {
   "display_name": "Python 3.9.7 ('base')",
   "language": "python",
   "name": "python3"
  },
  "language_info": {
   "codemirror_mode": {
    "name": "ipython",
    "version": 3
   },
   "file_extension": ".py",
   "mimetype": "text/x-python",
   "name": "python",
   "nbconvert_exporter": "python",
   "pygments_lexer": "ipython3",
   "version": "3.9.7"
  },
  "orig_nbformat": 4
 },
 "nbformat": 4,
 "nbformat_minor": 2
}
