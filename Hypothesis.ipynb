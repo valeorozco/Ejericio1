{
 "cells": [
  {
   "cell_type": "markdown",
   "metadata": {},
   "source": [
    "### HYPOTHESIS TESTING"
   ]
  },
  {
   "cell_type": "markdown",
   "metadata": {},
   "source": [
    "- Ejercicio 1\n",
    "Coge un conjunto de datos de tema deportivo que te guste y selecciona un atributo del conjunto de datos. Calcula el p-valor y di si rechaza la hipótesis nula cogiendo un alfa de 5%. \n",
    "\n"
   ]
  },
  {
   "cell_type": "markdown",
   "metadata": {},
   "source": [
    "* H0: There is no statistical relationship between gold medals won by gender\n",
    "* H1: There is statistical relationship in gold medals won by gender\n",
    "\n",
    "To test whether the H0 can be rejected, a Chi-Square test must be made."
   ]
  },
  {
   "cell_type": "code",
   "execution_count": 51,
   "metadata": {},
   "outputs": [],
   "source": [
    "import numpy as np\n",
    "import matplotlib.pyplot as plt\n",
    "import pandas as pd\n",
    "import seaborn as sns\n",
    "from scipy import stats"
   ]
  },
  {
   "cell_type": "code",
   "execution_count": 52,
   "metadata": {},
   "outputs": [
    {
     "data": {
      "text/html": [
       "<div>\n",
       "<style scoped>\n",
       "    .dataframe tbody tr th:only-of-type {\n",
       "        vertical-align: middle;\n",
       "    }\n",
       "\n",
       "    .dataframe tbody tr th {\n",
       "        vertical-align: top;\n",
       "    }\n",
       "\n",
       "    .dataframe thead th {\n",
       "        text-align: right;\n",
       "    }\n",
       "</style>\n",
       "<table border=\"1\" class=\"dataframe\">\n",
       "  <thead>\n",
       "    <tr style=\"text-align: right;\">\n",
       "      <th></th>\n",
       "      <th>ID</th>\n",
       "      <th>Name</th>\n",
       "      <th>Sex</th>\n",
       "      <th>Age</th>\n",
       "      <th>Height</th>\n",
       "      <th>Weight</th>\n",
       "      <th>Team</th>\n",
       "      <th>NOC</th>\n",
       "      <th>Games</th>\n",
       "      <th>Year</th>\n",
       "      <th>Season</th>\n",
       "      <th>City</th>\n",
       "      <th>Sport</th>\n",
       "      <th>Event</th>\n",
       "      <th>Medal</th>\n",
       "    </tr>\n",
       "  </thead>\n",
       "  <tbody>\n",
       "    <tr>\n",
       "      <th>0</th>\n",
       "      <td>1</td>\n",
       "      <td>A Dijiang</td>\n",
       "      <td>M</td>\n",
       "      <td>24.0</td>\n",
       "      <td>180.0</td>\n",
       "      <td>80.0</td>\n",
       "      <td>China</td>\n",
       "      <td>CHN</td>\n",
       "      <td>1992 Summer</td>\n",
       "      <td>1992</td>\n",
       "      <td>Summer</td>\n",
       "      <td>Barcelona</td>\n",
       "      <td>Basketball</td>\n",
       "      <td>Basketball Men's Basketball</td>\n",
       "      <td>NaN</td>\n",
       "    </tr>\n",
       "    <tr>\n",
       "      <th>1</th>\n",
       "      <td>2</td>\n",
       "      <td>A Lamusi</td>\n",
       "      <td>M</td>\n",
       "      <td>23.0</td>\n",
       "      <td>170.0</td>\n",
       "      <td>60.0</td>\n",
       "      <td>China</td>\n",
       "      <td>CHN</td>\n",
       "      <td>2012 Summer</td>\n",
       "      <td>2012</td>\n",
       "      <td>Summer</td>\n",
       "      <td>London</td>\n",
       "      <td>Judo</td>\n",
       "      <td>Judo Men's Extra-Lightweight</td>\n",
       "      <td>NaN</td>\n",
       "    </tr>\n",
       "    <tr>\n",
       "      <th>2</th>\n",
       "      <td>3</td>\n",
       "      <td>Gunnar Nielsen Aaby</td>\n",
       "      <td>M</td>\n",
       "      <td>24.0</td>\n",
       "      <td>NaN</td>\n",
       "      <td>NaN</td>\n",
       "      <td>Denmark</td>\n",
       "      <td>DEN</td>\n",
       "      <td>1920 Summer</td>\n",
       "      <td>1920</td>\n",
       "      <td>Summer</td>\n",
       "      <td>Antwerpen</td>\n",
       "      <td>Football</td>\n",
       "      <td>Football Men's Football</td>\n",
       "      <td>NaN</td>\n",
       "    </tr>\n",
       "    <tr>\n",
       "      <th>3</th>\n",
       "      <td>4</td>\n",
       "      <td>Edgar Lindenau Aabye</td>\n",
       "      <td>M</td>\n",
       "      <td>34.0</td>\n",
       "      <td>NaN</td>\n",
       "      <td>NaN</td>\n",
       "      <td>Denmark/Sweden</td>\n",
       "      <td>DEN</td>\n",
       "      <td>1900 Summer</td>\n",
       "      <td>1900</td>\n",
       "      <td>Summer</td>\n",
       "      <td>Paris</td>\n",
       "      <td>Tug-Of-War</td>\n",
       "      <td>Tug-Of-War Men's Tug-Of-War</td>\n",
       "      <td>Gold</td>\n",
       "    </tr>\n",
       "    <tr>\n",
       "      <th>4</th>\n",
       "      <td>5</td>\n",
       "      <td>Christine Jacoba Aaftink</td>\n",
       "      <td>F</td>\n",
       "      <td>21.0</td>\n",
       "      <td>185.0</td>\n",
       "      <td>82.0</td>\n",
       "      <td>Netherlands</td>\n",
       "      <td>NED</td>\n",
       "      <td>1988 Winter</td>\n",
       "      <td>1988</td>\n",
       "      <td>Winter</td>\n",
       "      <td>Calgary</td>\n",
       "      <td>Speed Skating</td>\n",
       "      <td>Speed Skating Women's 500 metres</td>\n",
       "      <td>NaN</td>\n",
       "    </tr>\n",
       "  </tbody>\n",
       "</table>\n",
       "</div>"
      ],
      "text/plain": [
       "   ID                      Name Sex   Age  Height  Weight            Team  \\\n",
       "0   1                 A Dijiang   M  24.0   180.0    80.0           China   \n",
       "1   2                  A Lamusi   M  23.0   170.0    60.0           China   \n",
       "2   3       Gunnar Nielsen Aaby   M  24.0     NaN     NaN         Denmark   \n",
       "3   4      Edgar Lindenau Aabye   M  34.0     NaN     NaN  Denmark/Sweden   \n",
       "4   5  Christine Jacoba Aaftink   F  21.0   185.0    82.0     Netherlands   \n",
       "\n",
       "   NOC        Games  Year  Season       City          Sport  \\\n",
       "0  CHN  1992 Summer  1992  Summer  Barcelona     Basketball   \n",
       "1  CHN  2012 Summer  2012  Summer     London           Judo   \n",
       "2  DEN  1920 Summer  1920  Summer  Antwerpen       Football   \n",
       "3  DEN  1900 Summer  1900  Summer      Paris     Tug-Of-War   \n",
       "4  NED  1988 Winter  1988  Winter    Calgary  Speed Skating   \n",
       "\n",
       "                              Event Medal  \n",
       "0       Basketball Men's Basketball   NaN  \n",
       "1      Judo Men's Extra-Lightweight   NaN  \n",
       "2           Football Men's Football   NaN  \n",
       "3       Tug-Of-War Men's Tug-Of-War  Gold  \n",
       "4  Speed Skating Women's 500 metres   NaN  "
      ]
     },
     "execution_count": 52,
     "metadata": {},
     "output_type": "execute_result"
    }
   ],
   "source": [
    "df = pd.read_csv('../Entrega11/athlete_events.csv')\n",
    "df.head()\n"
   ]
  },
  {
   "cell_type": "code",
   "execution_count": 54,
   "metadata": {},
   "outputs": [
    {
     "data": {
      "text/plain": [
       "M    9625\n",
       "F    3747\n",
       "Name: Sex, dtype: int64"
      ]
     },
     "execution_count": 54,
     "metadata": {},
     "output_type": "execute_result"
    }
   ],
   "source": [
    "oro = df[df['Medal']== 'Gold']\n",
    "bysex = oro['Sex']\n",
    "bysex.to_frame()\n",
    "bysex.value_counts()\n",
    "\n"
   ]
  },
  {
   "cell_type": "code",
   "execution_count": 55,
   "metadata": {},
   "outputs": [
    {
     "name": "stdout",
     "output_type": "stream",
     "text": [
      "Sex        F     M\n",
      "Medal             \n",
      "Bronze  3771  9524\n",
      "Gold    3747  9625\n",
      "Silver  3735  9381\n"
     ]
    }
   ],
   "source": [
    "freq_table = pd.crosstab(df[\"Medal\"], df[\"Sex\"])\n",
    "print(freq_table)"
   ]
  },
  {
   "cell_type": "code",
   "execution_count": 56,
   "metadata": {},
   "outputs": [],
   "source": [
    "stat, p, dof, expected = stats.chi2_contingency(freq_table)"
   ]
  },
  {
   "cell_type": "code",
   "execution_count": 57,
   "metadata": {},
   "outputs": [
    {
     "name": "stdout",
     "output_type": "stream",
     "text": [
      "0.7370838511988413\n",
      "0.691742207283466\n",
      "2\n",
      "[[3760.61722344 9534.38277656]\n",
      " [3782.39740593 9589.60259407]\n",
      " [3709.98537064 9406.01462936]]\n"
     ]
    }
   ],
   "source": [
    "print(stat)\n",
    "print(p)\n",
    "print(dof)\n",
    "print(expected)"
   ]
  },
  {
   "cell_type": "markdown",
   "metadata": {},
   "source": [
    "The previous results indicate there is no statistically significant relationship between wining a gold medal and being either man or woman since p > 0.05"
   ]
  },
  {
   "cell_type": "markdown",
   "metadata": {},
   "source": [
    "- Ejercicio 2\n",
    "Continúa con el conjunto de datos de tema deportivo que te guste y selecciona otros dos atributos del conjunto de datos. Calcula los p-valores y di si rechazan la hipótesis nula cogiendo un alfa de 5%."
   ]
  },
  {
   "cell_type": "markdown",
   "metadata": {},
   "source": [
    "* H0: There is no relationship between the season and the weight of the athlete.\n",
    "* H1: There a relationship between the season and the weight of the athlete."
   ]
  },
  {
   "cell_type": "code",
   "execution_count": 81,
   "metadata": {},
   "outputs": [
    {
     "data": {
      "text/plain": [
       "<AxesSubplot:xlabel='Season', ylabel='Weight'>"
      ]
     },
     "execution_count": 81,
     "metadata": {},
     "output_type": "execute_result"
    },
    {
     "data": {
      "image/png": "[encoded data removed]",
      "text/plain": [
       "<Figure size 432x288 with 1 Axes>"
      ]
     },
     "metadata": {
      "needs_background": "light"
     },
     "output_type": "display_data"
    }
   ],
   "source": [
    "#Plot some bars to see how is the distribution of the variables\n",
    "Weight = df['Weight']\n",
    "Season = df['Season']\n",
    "\n",
    "sns.barplot(data= df, x=Season, y= Weight)\n",
    "#The bar plots show similar distribution of weights for summer and winter, nevertheless no relation can seen from the. "
   ]
  },
  {
   "cell_type": "code",
   "execution_count": 89,
   "metadata": {},
   "outputs": [
    {
     "data": {
      "text/plain": [
       "(array([222552.,  48564.]),\n",
       " array([0. , 0.5, 1. ]),\n",
       " <BarContainer object of 2 artists>)"
      ]
     },
     "execution_count": 89,
     "metadata": {},
     "output_type": "execute_result"
    },
    {
     "data": {
      "image/png": "[encoded data removed]",
      "text/plain": [
       "<Figure size 432x288 with 1 Axes>"
      ]
     },
     "metadata": {
      "needs_background": "light"
     },
     "output_type": "display_data"
    }
   ],
   "source": [
    "plt.hist(Season, bins= 2)\n",
    "#A relevant point to take into account is that the distribution for summer and winter competitions winners is uneven. "
   ]
  },
  {
   "cell_type": "code",
   "execution_count": 88,
   "metadata": {},
   "outputs": [
    {
     "name": "stdout",
     "output_type": "stream",
     "text": [
      "Season  Summer  Winter\n",
      "Weight                \n",
      "25.0         6       0\n",
      "28.0        14       0\n",
      "30.0        42       0\n",
      "31.0        23       0\n",
      "32.0        40       1\n",
      "...        ...     ...\n",
      "180.0        1       0\n",
      "182.0        2       0\n",
      "190.0        1       0\n",
      "198.0        1       0\n",
      "214.0        2       0\n",
      "\n",
      "[220 rows x 2 columns]\n"
     ]
    }
   ],
   "source": [
    "freq_table_2 = pd.crosstab(Weight, Season)\n",
    "print(freq_table_2)"
   ]
  },
  {
   "cell_type": "code",
   "execution_count": 92,
   "metadata": {},
   "outputs": [],
   "source": [
    "stat, p, dof, expected = stats.chi2_contingency(freq_table_2)"
   ]
  },
  {
   "cell_type": "code",
   "execution_count": 93,
   "metadata": {},
   "outputs": [
    {
     "name": "stdout",
     "output_type": "stream",
     "text": [
      "2117.8147699687097\n",
      "1.6828245550497372e-307\n",
      "219\n",
      "[[4.86065664e+00 1.13934336e+00]\n",
      " [1.13415322e+01 2.65846783e+00]\n",
      " [3.40245965e+01 7.97540350e+00]\n",
      " [1.86325171e+01 4.36748287e+00]\n",
      " [3.32144871e+01 7.78551294e+00]\n",
      " [4.13155815e+01 9.68441853e+00]\n",
      " [5.91379892e+01 1.38620108e+01]\n",
      " [7.45300685e+01 1.74699315e+01]\n",
      " [1.10984993e+02 2.60150067e+01]\n",
      " [1.40148933e+02 3.28510668e+01]\n",
      " [1.57971341e+02 3.70286591e+01]\n",
      " [1.58781450e+02 3.72185497e+01]\n",
      " [3.01360712e+02 7.06392881e+01]\n",
      " [2.09818345e+02 4.91816549e+01]\n",
      " [2.78677648e+02 6.53223525e+01]\n",
      " [4.22067019e+02 9.89329815e+01]\n",
      " [3.58068373e+02 8.39316273e+01]\n",
      " [6.04341643e+02 1.41658357e+02]\n",
      " [6.29455035e+02 1.47544965e+02]\n",
      " [8.41703709e+02 1.97296291e+02]\n",
      " [1.59186505e+03 3.73134949e+02]\n",
      " [8.10109441e-01 1.89890559e-01]\n",
      " [8.99221479e+02 2.10778521e+02]\n",
      " [2.43032832e+00 5.69671678e-01]\n",
      " [2.09575312e+03 4.91246877e+02]\n",
      " [1.48979126e+03 3.49208739e+02]\n",
      " [1.62021888e+00 3.79781119e-01]\n",
      " [2.79487757e+03 6.55122430e+02]\n",
      " [2.26830643e+01 5.31693567e+00]\n",
      " [1.93292113e+03 4.53078875e+02]\n",
      " [4.86065664e+00 1.13934336e+00]\n",
      " [2.84105381e+03 6.65946192e+02]\n",
      " [2.02527360e+01 4.74726399e+00]\n",
      " [3.32630936e+03 7.79690637e+02]\n",
      " [3.88852531e+01 9.11474686e+00]\n",
      " [3.26393094e+03 7.65069064e+02]\n",
      " [6.48087552e+00 1.51912448e+00]\n",
      " [3.75890780e+03 8.81092196e+02]\n",
      " [9.72131329e+00 2.27868671e+00]\n",
      " [4.24740380e+03 9.95596203e+02]\n",
      " [2.43032832e+00 5.69671678e-01]\n",
      " [3.25015908e+03 7.61840925e+02]\n",
      " [3.32144871e+01 7.78551294e+00]\n",
      " [6.47601487e+03 1.51798513e+03]\n",
      " [1.45819699e+01 3.41803007e+00]\n",
      " [3.09218773e+03 7.24812266e+02]\n",
      " [1.29617510e+01 3.03824895e+00]\n",
      " [4.54552407e+03 1.06547593e+03]\n",
      " [9.72131329e+00 2.27868671e+00]\n",
      " [4.75453231e+03 1.11446769e+03]\n",
      " [5.75177703e+01 1.34822297e+01]\n",
      " [4.66947082e+03 1.09452918e+03]\n",
      " [1.29617510e+01 3.03824895e+00]\n",
      " [5.86195191e+03 1.37404809e+03]\n",
      " [2.26830643e+01 5.31693567e+00]\n",
      " [3.85936137e+03 9.04638625e+02]\n",
      " [1.78224077e+01 4.17759231e+00]\n",
      " [4.26360599e+03 9.99394015e+02]\n",
      " [4.13155815e+01 9.68441853e+00]\n",
      " [5.90083716e+03 1.38316284e+03]\n",
      " [2.75437210e+01 6.45627902e+00]\n",
      " [3.26231072e+03 7.64689283e+02]\n",
      " [4.53661287e+01 1.06338713e+01]\n",
      " [7.79730336e+03 1.82769664e+03]\n",
      " [2.75437210e+01 6.45627902e+00]\n",
      " [2.94636804e+03 6.90631965e+02]\n",
      " [9.72131329e+00 2.27868671e+00]\n",
      " [5.06480422e+03 1.18719578e+03]\n",
      " [1.53920794e+01 3.60792063e+00]\n",
      " [4.80961975e+03 1.12738025e+03]\n",
      " [2.18729549e+01 5.12704511e+00]\n",
      " [3.89581630e+03 9.13183701e+02]\n",
      " [2.10628455e+01 4.93715455e+00]\n",
      " [2.43032832e+00 5.69671678e-01]\n",
      " [6.32695473e+03 1.48304527e+03]\n",
      " [1.86325171e+01 4.36748287e+00]\n",
      " [3.32873969e+03 7.80260309e+02]\n",
      " [3.24043776e+01 7.59562238e+00]\n",
      " [3.26879159e+03 7.66208408e+02]\n",
      " [2.43032832e+00 5.69671678e-01]\n",
      " [2.75437210e+01 6.45627902e+00]\n",
      " [4.04649666e+03 9.48503345e+02]\n",
      " [2.02527360e+01 4.74726399e+00]\n",
      " [2.54860430e+03 5.97395700e+02]\n",
      " [2.02527360e+01 4.74726399e+00]\n",
      " [5.03402006e+03 1.17997994e+03]\n",
      " [4.86065664e+00 1.13934336e+00]\n",
      " [2.07144984e+03 4.85550161e+02]\n",
      " [2.51133927e+01 5.88660734e+00]\n",
      " [3.39111812e+03 7.94881882e+02]\n",
      " [1.37718605e+01 3.22813951e+00]\n",
      " [2.36957011e+03 5.55429887e+02]\n",
      " [1.62021888e+01 3.79781119e+00]\n",
      " [2.38577230e+03 5.59227698e+02]\n",
      " [5.67076608e+00 1.32923392e+00]\n",
      " [3.16671780e+03 7.42282197e+02]\n",
      " [8.10109441e+00 1.89890559e+00]\n",
      " [2.05443754e+03 4.81562459e+02]\n",
      " [1.21516416e+01 2.84835839e+00]\n",
      " [1.51976531e+03 3.56234690e+02]\n",
      " [1.37718605e+01 3.22813951e+00]\n",
      " [1.73525442e+03 4.06745578e+02]\n",
      " [1.21516416e+01 2.84835839e+00]\n",
      " [1.16493738e+03 2.73062625e+02]\n",
      " [9.72131329e+00 2.27868671e+00]\n",
      " [2.73087892e+03 6.40121076e+02]\n",
      " [3.24043776e+00 7.59562238e-01]\n",
      " [1.07258490e+03 2.51415101e+02]\n",
      " [7.29098496e+00 1.70901504e+00]\n",
      " [1.19329121e+03 2.79708794e+02]\n",
      " [5.67076608e+00 1.32923392e+00]\n",
      " [1.14144420e+03 2.67555798e+02]\n",
      " [3.24043776e+00 7.59562238e-01]\n",
      " [8.02008346e+02 1.87991654e+02]\n",
      " [1.49222159e+03 3.49778411e+02]\n",
      " [1.62021888e+00 3.79781119e-01]\n",
      " [6.95884009e+02 1.63115991e+02]\n",
      " [4.05054720e+00 9.49452797e-01]\n",
      " [5.54114857e+02 1.29885143e+02]\n",
      " [1.05314227e+01 2.46857727e+00]\n",
      " [7.22617621e+02 1.69382379e+02]\n",
      " [4.05054720e+00 9.49452797e-01]\n",
      " [2.99740493e+02 7.02595070e+01]\n",
      " [1.25080898e+03 2.93191024e+02]\n",
      " [2.43032832e+00 5.69671678e-01]\n",
      " [1.34478167e+02 3.15218329e+01]\n",
      " [4.05054720e+00 9.49452797e-01]\n",
      " [4.08295158e+02 9.57048420e+01]\n",
      " [7.29098496e+00 1.70901504e+00]\n",
      " [2.01717251e+02 4.72827493e+01]\n",
      " [4.86065664e+00 1.13934336e+00]\n",
      " [2.54374364e+02 5.96256357e+01]\n",
      " [1.62021888e+00 3.79781119e-01]\n",
      " [4.87685883e+02 1.14314117e+02]\n",
      " [3.24043776e+00 7.59562238e-01]\n",
      " [1.40959043e+02 3.30409574e+01]\n",
      " [3.24043776e+00 7.59562238e-01]\n",
      " [1.51490465e+02 3.55095346e+01]\n",
      " [1.62021888e+00 3.79781119e-01]\n",
      " [1.40959043e+02 3.30409574e+01]\n",
      " [3.24043776e+00 7.59562238e-01]\n",
      " [9.96434612e+01 2.33565388e+01]\n",
      " [1.62021888e+00 3.79781119e-01]\n",
      " [3.46726841e+02 8.12731595e+01]\n",
      " [6.23784269e+01 1.46215731e+01]\n",
      " [1.01263680e+02 2.37363199e+01]\n",
      " [4.05054720e+00 9.49452797e-01]\n",
      " [5.83278797e+01 1.36721203e+01]\n",
      " [8.34412724e+01 1.95587276e+01]\n",
      " [2.36551957e+02 5.54480434e+01]\n",
      " [4.77964570e+01 1.12035430e+01]\n",
      " [1.62021888e+00 3.79781119e-01]\n",
      " [3.56448154e+01 8.35518462e+00]\n",
      " [4.05054720e+00 9.49452797e-01]\n",
      " [8.66817101e+01 2.03182899e+01]\n",
      " [1.62021888e+00 3.79781119e-01]\n",
      " [1.94426266e+01 4.55737343e+00]\n",
      " [3.19993229e+02 7.50067710e+01]\n",
      " [1.53920794e+01 3.60792063e+00]\n",
      " [1.62021888e+00 3.79781119e-01]\n",
      " [3.07841587e+01 7.21584126e+00]\n",
      " [2.43032832e+00 5.69671678e-01]\n",
      " [3.24043776e+01 7.59562238e+00]\n",
      " [2.43032832e+00 5.69671678e-01]\n",
      " [2.10628455e+01 4.93715455e+00]\n",
      " [1.61211779e+02 3.77882213e+01]\n",
      " [2.75437210e+01 6.45627902e+00]\n",
      " [3.32144871e+01 7.78551294e+00]\n",
      " [1.62021888e+00 3.79781119e-01]\n",
      " [4.61762381e+01 1.08237619e+01]\n",
      " [1.13415322e+01 2.65846783e+00]\n",
      " [2.43032832e+00 5.69671678e-01]\n",
      " [1.64452216e+02 3.85477836e+01]\n",
      " [1.62021888e+00 3.79781119e-01]\n",
      " [1.37718605e+01 3.22813951e+00]\n",
      " [2.43032832e+00 5.69671678e-01]\n",
      " [2.43032832e+01 5.69671678e+00]\n",
      " [1.05314227e+01 2.46857727e+00]\n",
      " [1.62021888e+00 3.79781119e-01]\n",
      " [1.21516416e+01 2.84835839e+00]\n",
      " [3.48347059e+01 8.16529406e+00]\n",
      " [2.43032832e+00 5.69671678e-01]\n",
      " [1.62021888e+01 3.79781119e+00]\n",
      " [8.91120385e+00 2.08879615e+00]\n",
      " [1.62021888e+00 3.79781119e-01]\n",
      " [1.05314227e+01 2.46857727e+00]\n",
      " [2.43032832e+00 5.69671678e-01]\n",
      " [9.72131329e+00 2.27868671e+00]\n",
      " [4.21256909e+01 9.87430909e+00]\n",
      " [1.29617510e+01 3.03824895e+00]\n",
      " [6.48087552e+00 1.51912448e+00]\n",
      " [4.05054720e+00 9.49452797e-01]\n",
      " [7.29098496e+00 1.70901504e+00]\n",
      " [1.70122983e+01 3.98770175e+00]\n",
      " [1.13415322e+01 2.65846783e+00]\n",
      " [1.62021888e+00 3.79781119e-01]\n",
      " [4.86065664e+00 1.13934336e+00]\n",
      " [1.13415322e+01 2.65846783e+00]\n",
      " [8.10109441e-01 1.89890559e-01]\n",
      " [1.45819699e+01 3.41803007e+00]\n",
      " [8.10109441e-01 1.89890559e-01]\n",
      " [1.62021888e+00 3.79781119e-01]\n",
      " [4.05054720e+00 9.49452797e-01]\n",
      " [4.86065664e+00 1.13934336e+00]\n",
      " [4.05054720e+00 9.49452797e-01]\n",
      " [2.43032832e+00 5.69671678e-01]\n",
      " [9.72131329e+00 2.27868671e+00]\n",
      " [4.86065664e+00 1.13934336e+00]\n",
      " [5.67076608e+00 1.32923392e+00]\n",
      " [4.05054720e+00 9.49452797e-01]\n",
      " [1.62021888e+00 3.79781119e-01]\n",
      " [4.05054720e+00 9.49452797e-01]\n",
      " [8.10109441e-01 1.89890559e-01]\n",
      " [1.62021888e+00 3.79781119e-01]\n",
      " [8.10109441e-01 1.89890559e-01]\n",
      " [8.10109441e-01 1.89890559e-01]\n",
      " [1.62021888e+00 3.79781119e-01]\n",
      " [8.10109441e-01 1.89890559e-01]\n",
      " [8.10109441e-01 1.89890559e-01]\n",
      " [1.62021888e+00 3.79781119e-01]]\n"
     ]
    }
   ],
   "source": [
    "print(stat)\n",
    "print(p)\n",
    "print(dof)\n",
    "print(expected)"
   ]
  },
  {
   "cell_type": "markdown",
   "metadata": {},
   "source": [
    "The previous results indicate there is no statistically significant relationship between wining a gold medal and being season and the weight of the athlete p > 0.05"
   ]
  },
  {
   "cell_type": "markdown",
   "metadata": {},
   "source": [
    "\n",
    "- Ejercicio 3\n",
    "Continúa con el conjunto de datos de tema deportivo que te guste y selecciona tres atributos del conjunto de datos. Calcula el p-valor y di si rechaza la hipótesis nula cogiendo un alfa de 5%."
   ]
  },
  {
   "cell_type": "markdown",
   "metadata": {},
   "source": [
    "* H0: There is a no relationship between age and type of medal won.\n",
    "* H1: There is a relationship between the age and type of medal won."
   ]
  },
  {
   "cell_type": "code",
   "execution_count": 73,
   "metadata": {},
   "outputs": [
    {
     "data": {
      "text/plain": [
       "<AxesSubplot:xlabel='Medal', ylabel='Age'>"
      ]
     },
     "execution_count": 73,
     "metadata": {},
     "output_type": "execute_result"
    },
    {
     "data": {
      "image/png": "[encoded data removed]",
      "text/plain": [
       "<Figure size 432x288 with 1 Axes>"
      ]
     },
     "metadata": {
      "needs_background": "light"
     },
     "output_type": "display_data"
    }
   ],
   "source": [
    "#Explore the data distribution with some boxplots. \n",
    "sns.boxplot(x='Medal', y='Age', data=df)\n"
   ]
  },
  {
   "cell_type": "markdown",
   "metadata": {},
   "source": [
    "Seems the average age is the same for all categories. Nevertheless, there are multiple outliers that should be taken into consideration when testing."
   ]
  },
  {
   "cell_type": "code",
   "execution_count": 69,
   "metadata": {},
   "outputs": [
    {
     "name": "stderr",
     "output_type": "stream",
     "text": [
      "c:\\Users\\vaorc\\anaconda3\\lib\\site-packages\\pandas\\util\\_decorators.py:311: SettingWithCopyWarning: \n",
      "A value is trying to be set on a copy of a slice from a DataFrame\n",
      "\n",
      "See the caveats in the documentation: https://pandas.pydata.org/pandas-docs/stable/user_guide/indexing.html#returning-a-view-versus-a-copy\n",
      "  return func(*args, **kwargs)\n"
     ]
    },
    {
     "data": {
      "text/html": [
       "<div>\n",
       "<style scoped>\n",
       "    .dataframe tbody tr th:only-of-type {\n",
       "        vertical-align: middle;\n",
       "    }\n",
       "\n",
       "    .dataframe tbody tr th {\n",
       "        vertical-align: top;\n",
       "    }\n",
       "\n",
       "    .dataframe thead th {\n",
       "        text-align: right;\n",
       "    }\n",
       "</style>\n",
       "<table border=\"1\" class=\"dataframe\">\n",
       "  <thead>\n",
       "    <tr style=\"text-align: right;\">\n",
       "      <th></th>\n",
       "      <th>Medal</th>\n",
       "      <th>Age</th>\n",
       "    </tr>\n",
       "  </thead>\n",
       "  <tbody>\n",
       "    <tr>\n",
       "      <th>3</th>\n",
       "      <td>Gold</td>\n",
       "      <td>34.0</td>\n",
       "    </tr>\n",
       "    <tr>\n",
       "      <th>37</th>\n",
       "      <td>Bronze</td>\n",
       "      <td>30.0</td>\n",
       "    </tr>\n",
       "    <tr>\n",
       "      <th>38</th>\n",
       "      <td>Bronze</td>\n",
       "      <td>30.0</td>\n",
       "    </tr>\n",
       "    <tr>\n",
       "      <th>40</th>\n",
       "      <td>Bronze</td>\n",
       "      <td>28.0</td>\n",
       "    </tr>\n",
       "    <tr>\n",
       "      <th>41</th>\n",
       "      <td>Bronze</td>\n",
       "      <td>28.0</td>\n",
       "    </tr>\n",
       "    <tr>\n",
       "      <th>...</th>\n",
       "      <td>...</td>\n",
       "      <td>...</td>\n",
       "    </tr>\n",
       "    <tr>\n",
       "      <th>271078</th>\n",
       "      <td>Silver</td>\n",
       "      <td>25.0</td>\n",
       "    </tr>\n",
       "    <tr>\n",
       "      <th>271080</th>\n",
       "      <td>Bronze</td>\n",
       "      <td>33.0</td>\n",
       "    </tr>\n",
       "    <tr>\n",
       "      <th>271082</th>\n",
       "      <td>Bronze</td>\n",
       "      <td>28.0</td>\n",
       "    </tr>\n",
       "    <tr>\n",
       "      <th>271102</th>\n",
       "      <td>Bronze</td>\n",
       "      <td>19.0</td>\n",
       "    </tr>\n",
       "    <tr>\n",
       "      <th>271103</th>\n",
       "      <td>Silver</td>\n",
       "      <td>23.0</td>\n",
       "    </tr>\n",
       "  </tbody>\n",
       "</table>\n",
       "<p>39051 rows × 2 columns</p>\n",
       "</div>"
      ],
      "text/plain": [
       "         Medal   Age\n",
       "3         Gold  34.0\n",
       "37      Bronze  30.0\n",
       "38      Bronze  30.0\n",
       "40      Bronze  28.0\n",
       "41      Bronze  28.0\n",
       "...        ...   ...\n",
       "271078  Silver  25.0\n",
       "271080  Bronze  33.0\n",
       "271082  Bronze  28.0\n",
       "271102  Bronze  19.0\n",
       "271103  Silver  23.0\n",
       "\n",
       "[39051 rows x 2 columns]"
      ]
     },
     "execution_count": 69,
     "metadata": {},
     "output_type": "execute_result"
    }
   ],
   "source": [
    "\n",
    "df_new = df[['Medal', 'Age']]\n",
    "df_new.dropna(inplace= True)\n",
    "df_new = pd.DataFrame(df_new)\n",
    "df_new\n"
   ]
  },
  {
   "cell_type": "code",
   "execution_count": 78,
   "metadata": {},
   "outputs": [],
   "source": [
    "#Create different groups by medal to test if there is a significant difference in age and medal won.\n",
    "Bronze = df_new[df_new['Medal']=='Bronze']['Age']\n",
    "Silver = df_new[df_new['Medal']=='Silver']['Age']\n",
    "Gold = df_new[df_new['Medal']=='Gold']['Age']\n",
    "#from scipy.stats import f_oneway"
   ]
  },
  {
   "cell_type": "code",
   "execution_count": 79,
   "metadata": {},
   "outputs": [
    {
     "data": {
      "text/plain": [
       "F_onewayResult(statistic=1.4415127134142867, pvalue=0.23658221471061605)"
      ]
     },
     "execution_count": 79,
     "metadata": {},
     "output_type": "execute_result"
    }
   ],
   "source": [
    "#Perform the one way anova, which allows us to test our hypothesis and therefore see if there is a statistically significant difference between ages among medals.\n",
    "stats.f_oneway(Bronze, Silver, Gold)"
   ]
  },
  {
   "cell_type": "markdown",
   "metadata": {},
   "source": [
    "The previous results show p>0.05, which means that the null hypothesis can't be rejected and there is no relationship between age and type of medal won."
   ]
  }
 ],
 "metadata": {
  "interpreter": {
   "hash": "2457de16549bda2ea19f462abbb8ee75322c13e2a4d708fd29b237268ab2c90c"
  },
  "kernelspec": {
   "display_name": "Python 3.9.7 ('base')",
   "language": "python",
   "name": "python3"
  },
  "language_info": {
   "codemirror_mode": {
    "name": "ipython",
    "version": 3
   },
   "file_extension": ".py",
   "mimetype": "text/x-python",
   "name": "python",
   "nbconvert_exporter": "python",
   "pygments_lexer": "ipython3",
   "version": "3.9.7"
  },
  "orig_nbformat": 4
 },
 "nbformat": 4,
 "nbformat_minor": 2
}
